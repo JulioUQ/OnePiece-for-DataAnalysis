{
 "cells": [
  {
   "cell_type": "markdown",
   "metadata": {},
   "source": [
    "# **El One Piece** :)\n",
    "\n",
    "La libreria OnePiece pretende ser un paquete de Python completo y fácil de usar diseñado para facilitar las tareas de datos comunes, incluida la limpieza, manipulación y visualización de datos. Inspirada en la legendaria serie de manga y anime, One Piece, esta libreria tiene como objetivo empoderar a los científicos, analistas y entusiastas de datos en sus viajes de exploración de datos, brindándoles herramientas y técnicas eficientes para conquistar los mares de datos.\n",
    "\n",
    "> **Características:**\n",
    "\n",
    "- **Limpieza de datos**: limpie y preprocese sin problemas los datos desordenados para garantizar la integridad y la coherencia de los datos. La biblioteca ofrece funciones para manejar valores faltantes, registros duplicados y formatos inconsistentes.\n",
    "- **Manipulación de datos**: manipule y transforme fácilmente los datos para cumplir con los requisitos de análisis. Realice operaciones de filtrado, clasificación, agrupación, fusión y remodelación sin esfuerzo.\n",
    "- **Visualización de datos**: cree diagramas y gráficos perspicaces y visualmente atractivos para obtener información más profunda sobre sus datos. La biblioteca admite varias técnicas de visualización, incluidos gráficos de barras, gráficos de líneas, gráficos de dispersión, histogramas y más.\n",
    "\n",
    "> **Módulos clave:**\n",
    "\n",
    "- **Limpieza**: módulo dedicado a tareas de limpieza de datos, con funciones para imputar valores faltantes, eliminar duplicados y manejar valores atípicos.\n",
    "- **Manipulación**: módulo diseñado para operaciones de manipulación de datos, incluido el filtrado, la clasificación, la fusión y la transformación de estructuras de datos.\n",
    "- **Visualización**: Módulo adaptado a la visualización de datos, que ofrece una amplia gama de funciones para generar representaciones visuales significativas y expresivas de sus datos."
   ]
  },
  {
   "cell_type": "code",
   "execution_count": null,
   "metadata": {},
   "outputs": [],
   "source": [
    "## Crea una carpeta para tus módulos: En tu sistema de archivos, crea una carpeta (por ejemplo, llamada 'mis_modulos') que contendrá tus archivos .py con las funciones que deseas importar.\n",
    "## Mueve 'mis_funciones.py': Mueve el archivo 'mis_funciones.py' a la carpeta 'mis_modulos'.\n",
    "## Agrega la carpeta al path de búsqueda: En tu Jupyter Notebook, agrega la carpeta 'mis_modulos' al path de búsqueda de Python. Esto permitirá que Python encuentre y cargue tus módulos desde esta ubicación sin importar dónde esté ubicado el Jupyter Notebook.\n",
    "\n",
    "import sys\n",
    "sys.path.append(r'C:\\Users\\jubeda2\\Documents\\Consultas jubeda2\\Modulos Python')\n",
    "\n",
    "import luffy as lf\n",
    "import namy as nm \n",
    "import importlib\n",
    "\n",
    "importlib.reload(lf)\n",
    "importlib.reload(nm)"
   ]
  },
  {
   "cell_type": "markdown",
   "metadata": {},
   "source": [
    "### **Monkey D. Luffy**\n",
    "\n",
    "El módulo muestra el uso de las distintas funciones que contiene el script.py llamado **`'luffy'`**. Estas son:\n",
    "|**Funciones**|**Descripción**|\n",
    "|:---:|---|\n",
    "|import_df()   | Cargar datos desde un archivo CSV o Excel y devolver un DataFrame de pandas|\n",
    "|describe_df() | Proporciona un resumen del DataFrame, incluida la forma, los tipos de datos, las estadísticas básicas, e información sobre valores nulos|\n",
    "|detect_duplicates()| Detecta los registros duplicados en un dataframe, los almacena y muestra en pantalla|\n",
    "|handle_null_values()|Permite manipular valores nulos en un DataFrame de pandas|\n",
    "|convert_data_types()| Realiza múltiples conversiones de tipos de datos para columnas seleccionadas en un DataFrame|\n",
    "|filter_df()   | Filtre un DataFrame en función de diferentes tipos de filtros para cadenas y columnas numéricas|\n",
    "|groupby_df()  | Realiza operaciones y agrupación de datos en un Dataframe|\n",
    "|export_df()   | Exporte un marco de datos de pandas a formato CSV o Excel|"
   ]
  },
  {
   "cell_type": "markdown",
   "metadata": {},
   "source": [
    "### **Nami**\n",
    "El módulo muestra el uso de las distintas funciones que contiene el script.py llamado **`'nami'`**. Estas son:\n",
    "\n",
    "|**Funciones**|**Descripción**|\n",
    "|:---:|---|\n",
    "|interactive_barplot()| Crea gráficos de barras para visualizar datos categóricos, contra numéricos para comparar valores en distintas categorías|\n",
    "|interactive_pie_chart()|Crea gráficos circulares para representar las frecuencias relativas de cada categoria|\n",
    "|interactive_PLplots()|Crea gráficos de lineas para explorar las tendencias de variables númericas en series temporales, comparando las tendencias en distintas categorías|\n",
    "|haversine_distance()|Calcular la distancia haverseno entre dos puntos de la superficie terrestre|\n",
    "|add_distance_between_points()|Agregue una nueva columna 'Distance_km' al DataFrame que contiene la distancia haversine entre puntos consecutivos en función de su latitud y longitud|\n",
    "|fao_map()| Crea un mapa de visualización de datos geoespaciales que incluye las geometrías de la capa FAO y marcadores opcionales|\n",
    "|create_heatmap()|Crea un mapa de calor basado en columnas de latitud y longitud en el DataFrame|\n",
    "|trajectory_map()|Crea un mapa de trayectoria temporal para un barco con flechas de rumbo (opcional)|\n",
    "|generate_popup_content()| Genera el contenido HTML para el popup del marcador con la información del DataFrame para un punto|\n"
   ]
  }
 ],
 "metadata": {
  "language_info": {
   "name": "python"
  },
  "orig_nbformat": 4
 },
 "nbformat": 4,
 "nbformat_minor": 2
}
