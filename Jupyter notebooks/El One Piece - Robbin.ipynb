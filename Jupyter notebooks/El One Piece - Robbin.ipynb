{
 "cells": [
  {
   "cell_type": "markdown",
   "metadata": {},
   "source": [
    "## **Robbin**\n",
    "\n",
    "El presente jupiter notebook muestra el uso de las distintas funciones que contiene el script.py llamado **`'robbin'`**, sobre un set de datos que representa información pesquera para análisis de clustering. Estas son:\n",
    "|**Funciones**|**Descripción**|\n",
    "|:---:|---|\n",
    "|import_df()   | Cargar datos desde un archivo CSV o Excel y devolver un DataFrame de pandas|"
   ]
  },
  {
   "cell_type": "markdown",
   "metadata": {},
   "source": [
    "El análisis de datos pesqueros mediante técnicas de clustering puede proporcionar información valiosa sobre patrones de distribución, agrupación de especies y comportamientos de las poblaciones de peces. Aquí hay algunos pasos para comenzar tu proyecto:\n",
    "\n",
    "### **1. Definición de Objetivos:**\n",
    "   \n",
    "   - **Diferencias en los patrones de distribución espacial entre especies:** Utiliza las coordenadas geográficas de las capturas y la información de especies para identificar patrones de distribución. Agrupa las capturas en función de su ubicación y especies y observa si ciertas especies tienden a agruparse en áreas particulares.\n",
    "   - **Áreas de pesca más productivas:** Utiliza la cantidad de capturas por especie en cada ubicación para identificar las áreas con mayor productividad pesquera. Agrupa los datos en función de la ubicación y especies, y analiza dónde se encuentran las mayores cantidades de capturas.\n",
    "   - **Cambios en los clusters a lo largo del tiempo:** Utiliza los datos temporales de las capturas y las coordenadas geográficas para agrupar las capturas en diferentes intervalos de tiempo y observar cómo cambian las agrupaciones a lo largo del tiempo.\n",
    "   - **Diferencias en la composicion de especies en el tiempo y el espacio:** Aprovecha los datos de capturas a lo largo del tiempo y las coordenadas geográficas para analizar cómo cambia la composición de especies en diferentes momentos y lugares. Agrupa las capturas en intervalos de tiempo y ubicaciones para identificar patrones de cambio en la composición de especies.\n"
   ]
  },
  {
   "cell_type": "code",
   "execution_count": 1,
   "metadata": {},
   "outputs": [
    {
     "data": {
      "text/plain": [
       "<module 'namy' from 'C:\\\\Users\\\\jubeda2\\\\Documents\\\\Consultas jubeda2\\\\Modulos Python\\\\namy.py'>"
      ]
     },
     "execution_count": 1,
     "metadata": {},
     "output_type": "execute_result"
    }
   ],
   "source": [
    "import sys\n",
    "sys.path.append(r'C:\\Users\\jubeda2\\Documents\\Consultas jubeda2\\Modulos Python')\n",
    "\n",
    "import luffy as lf\n",
    "import namy as nm \n",
    "\n",
    "import importlib\n",
    "importlib.reload(lf)\n",
    "importlib.reload(nm)"
   ]
  },
  {
   "cell_type": "markdown",
   "metadata": {},
   "source": [
    "### **2. Recopilación de Datos:**\n",
    "   \n",
    "  - **Latitude:** Coordenada geográfica de latitud donde se realizó la captura.\n",
    "  - **Longitude:** Coordenada geográfica de longitud donde se realizó la captura.\n",
    "  - **Species:** Nombre de la especie de pez capturada.\n",
    "  - **Catch Date:** Fecha en que se realizó la captura.\n",
    "  - **Catch Time:** Hora en que se realizó la captura.\n",
    "  - **Weight:** Peso del pez capturado.\n",
    "  - **Fishing Method:** Método utilizado para la captura (redes, anzuelos, trampas, etc.).\n",
    "  - **Location Description:** Descripción adicional de la ubicación de la captura.\n",
    "  - **Boat ID:** Identificación de la embarcación o barco utilizado para la pesca."
   ]
  },
  {
   "cell_type": "code",
   "execution_count": 4,
   "metadata": {},
   "outputs": [],
   "source": [
    "import sys\n",
    "sys.path.append(r'C:\\Users\\jubeda2\\Documents\\Consultas jubeda2\\Modulos Python')\n",
    "import luffy as lf"
   ]
  },
  {
   "cell_type": "code",
   "execution_count": 5,
   "metadata": {},
   "outputs": [],
   "source": [
    "path = r'C:\\Users\\jubeda2\\Desktop\\One Piece for DataAnalysis\\Data\\Consumo FAL.csv'\n",
    "\n",
    "df = lf.import_df(path, sep = ';', decimal = '.')"
   ]
  },
  {
   "cell_type": "code",
   "execution_count": 7,
   "metadata": {},
   "outputs": [
    {
     "data": {
      "text/html": [
       "<div>\n",
       "<style scoped>\n",
       "    .dataframe tbody tr th:only-of-type {\n",
       "        vertical-align: middle;\n",
       "    }\n",
       "\n",
       "    .dataframe tbody tr th {\n",
       "        vertical-align: top;\n",
       "    }\n",
       "\n",
       "    .dataframe thead th {\n",
       "        text-align: right;\n",
       "    }\n",
       "</style>\n",
       "<table border=\"1\" class=\"dataframe\">\n",
       "  <thead>\n",
       "    <tr style=\"text-align: right;\">\n",
       "      <th></th>\n",
       "      <th>Column</th>\n",
       "      <th>Data Type</th>\n",
       "      <th>Non-null Count</th>\n",
       "      <th>Null Count</th>\n",
       "      <th>Unique Values</th>\n",
       "      <th>Shape</th>\n",
       "      <th>mean</th>\n",
       "      <th>std</th>\n",
       "      <th>min</th>\n",
       "      <th>25%</th>\n",
       "      <th>50%</th>\n",
       "      <th>75%</th>\n",
       "      <th>max</th>\n",
       "    </tr>\n",
       "  </thead>\n",
       "  <tbody>\n",
       "    <tr>\n",
       "      <th>0</th>\n",
       "      <td>AL3</td>\n",
       "      <td>object</td>\n",
       "      <td>172</td>\n",
       "      <td>0</td>\n",
       "      <td>1</td>\n",
       "      <td>172 rows, 26 columns</td>\n",
       "      <td>NaN</td>\n",
       "      <td>NaN</td>\n",
       "      <td>NaN</td>\n",
       "      <td>NaN</td>\n",
       "      <td>NaN</td>\n",
       "      <td>NaN</td>\n",
       "      <td>NaN</td>\n",
       "    </tr>\n",
       "    <tr>\n",
       "      <th>1</th>\n",
       "      <td>Especie</td>\n",
       "      <td>object</td>\n",
       "      <td>172</td>\n",
       "      <td>0</td>\n",
       "      <td>1</td>\n",
       "      <td>172 rows, 26 columns</td>\n",
       "      <td>NaN</td>\n",
       "      <td>NaN</td>\n",
       "      <td>NaN</td>\n",
       "      <td>NaN</td>\n",
       "      <td>NaN</td>\n",
       "      <td>NaN</td>\n",
       "      <td>NaN</td>\n",
       "    </tr>\n",
       "    <tr>\n",
       "      <th>2</th>\n",
       "      <td>Censo</td>\n",
       "      <td>object</td>\n",
       "      <td>172</td>\n",
       "      <td>0</td>\n",
       "      <td>4</td>\n",
       "      <td>172 rows, 26 columns</td>\n",
       "      <td>NaN</td>\n",
       "      <td>NaN</td>\n",
       "      <td>NaN</td>\n",
       "      <td>NaN</td>\n",
       "      <td>NaN</td>\n",
       "      <td>NaN</td>\n",
       "      <td>NaN</td>\n",
       "    </tr>\n",
       "    <tr>\n",
       "      <th>3</th>\n",
       "      <td>CFR</td>\n",
       "      <td>object</td>\n",
       "      <td>172</td>\n",
       "      <td>0</td>\n",
       "      <td>7</td>\n",
       "      <td>172 rows, 26 columns</td>\n",
       "      <td>NaN</td>\n",
       "      <td>NaN</td>\n",
       "      <td>NaN</td>\n",
       "      <td>NaN</td>\n",
       "      <td>NaN</td>\n",
       "      <td>NaN</td>\n",
       "      <td>NaN</td>\n",
       "    </tr>\n",
       "    <tr>\n",
       "      <th>4</th>\n",
       "      <td>NombreBuque</td>\n",
       "      <td>object</td>\n",
       "      <td>172</td>\n",
       "      <td>0</td>\n",
       "      <td>7</td>\n",
       "      <td>172 rows, 26 columns</td>\n",
       "      <td>NaN</td>\n",
       "      <td>NaN</td>\n",
       "      <td>NaN</td>\n",
       "      <td>NaN</td>\n",
       "      <td>NaN</td>\n",
       "      <td>NaN</td>\n",
       "      <td>NaN</td>\n",
       "    </tr>\n",
       "    <tr>\n",
       "      <th>5</th>\n",
       "      <td>Matricula</td>\n",
       "      <td>object</td>\n",
       "      <td>172</td>\n",
       "      <td>0</td>\n",
       "      <td>7</td>\n",
       "      <td>172 rows, 26 columns</td>\n",
       "      <td>NaN</td>\n",
       "      <td>NaN</td>\n",
       "      <td>NaN</td>\n",
       "      <td>NaN</td>\n",
       "      <td>NaN</td>\n",
       "      <td>NaN</td>\n",
       "      <td>NaN</td>\n",
       "    </tr>\n",
       "    <tr>\n",
       "      <th>6</th>\n",
       "      <td>Division</td>\n",
       "      <td>object</td>\n",
       "      <td>172</td>\n",
       "      <td>0</td>\n",
       "      <td>7</td>\n",
       "      <td>172 rows, 26 columns</td>\n",
       "      <td>NaN</td>\n",
       "      <td>NaN</td>\n",
       "      <td>NaN</td>\n",
       "      <td>NaN</td>\n",
       "      <td>NaN</td>\n",
       "      <td>NaN</td>\n",
       "      <td>NaN</td>\n",
       "    </tr>\n",
       "    <tr>\n",
       "      <th>7</th>\n",
       "      <td>PaisCaptura</td>\n",
       "      <td>object</td>\n",
       "      <td>172</td>\n",
       "      <td>0</td>\n",
       "      <td>3</td>\n",
       "      <td>172 rows, 26 columns</td>\n",
       "      <td>NaN</td>\n",
       "      <td>NaN</td>\n",
       "      <td>NaN</td>\n",
       "      <td>NaN</td>\n",
       "      <td>NaN</td>\n",
       "      <td>NaN</td>\n",
       "      <td>NaN</td>\n",
       "    </tr>\n",
       "    <tr>\n",
       "      <th>8</th>\n",
       "      <td>FcCaptura</td>\n",
       "      <td>object</td>\n",
       "      <td>172</td>\n",
       "      <td>0</td>\n",
       "      <td>154</td>\n",
       "      <td>172 rows, 26 columns</td>\n",
       "      <td>NaN</td>\n",
       "      <td>NaN</td>\n",
       "      <td>NaN</td>\n",
       "      <td>NaN</td>\n",
       "      <td>NaN</td>\n",
       "      <td>NaN</td>\n",
       "      <td>NaN</td>\n",
       "    </tr>\n",
       "    <tr>\n",
       "      <th>9</th>\n",
       "      <td>HoraMinutos</td>\n",
       "      <td>object</td>\n",
       "      <td>172</td>\n",
       "      <td>0</td>\n",
       "      <td>111</td>\n",
       "      <td>172 rows, 26 columns</td>\n",
       "      <td>NaN</td>\n",
       "      <td>NaN</td>\n",
       "      <td>NaN</td>\n",
       "      <td>NaN</td>\n",
       "      <td>NaN</td>\n",
       "      <td>NaN</td>\n",
       "      <td>NaN</td>\n",
       "    </tr>\n",
       "    <tr>\n",
       "      <th>10</th>\n",
       "      <td>Marea</td>\n",
       "      <td>object</td>\n",
       "      <td>172</td>\n",
       "      <td>0</td>\n",
       "      <td>45</td>\n",
       "      <td>172 rows, 26 columns</td>\n",
       "      <td>NaN</td>\n",
       "      <td>NaN</td>\n",
       "      <td>NaN</td>\n",
       "      <td>NaN</td>\n",
       "      <td>NaN</td>\n",
       "      <td>NaN</td>\n",
       "      <td>NaN</td>\n",
       "    </tr>\n",
       "    <tr>\n",
       "      <th>11</th>\n",
       "      <td>FcSalida</td>\n",
       "      <td>object</td>\n",
       "      <td>172</td>\n",
       "      <td>0</td>\n",
       "      <td>45</td>\n",
       "      <td>172 rows, 26 columns</td>\n",
       "      <td>NaN</td>\n",
       "      <td>NaN</td>\n",
       "      <td>NaN</td>\n",
       "      <td>NaN</td>\n",
       "      <td>NaN</td>\n",
       "      <td>NaN</td>\n",
       "      <td>NaN</td>\n",
       "    </tr>\n",
       "    <tr>\n",
       "      <th>12</th>\n",
       "      <td>FcRegreso</td>\n",
       "      <td>object</td>\n",
       "      <td>172</td>\n",
       "      <td>0</td>\n",
       "      <td>44</td>\n",
       "      <td>172 rows, 26 columns</td>\n",
       "      <td>NaN</td>\n",
       "      <td>NaN</td>\n",
       "      <td>NaN</td>\n",
       "      <td>NaN</td>\n",
       "      <td>NaN</td>\n",
       "      <td>NaN</td>\n",
       "      <td>NaN</td>\n",
       "    </tr>\n",
       "    <tr>\n",
       "      <th>13</th>\n",
       "      <td>PuertoSalida</td>\n",
       "      <td>object</td>\n",
       "      <td>172</td>\n",
       "      <td>0</td>\n",
       "      <td>8</td>\n",
       "      <td>172 rows, 26 columns</td>\n",
       "      <td>NaN</td>\n",
       "      <td>NaN</td>\n",
       "      <td>NaN</td>\n",
       "      <td>NaN</td>\n",
       "      <td>NaN</td>\n",
       "      <td>NaN</td>\n",
       "      <td>NaN</td>\n",
       "    </tr>\n",
       "    <tr>\n",
       "      <th>14</th>\n",
       "      <td>PuertoRegreso</td>\n",
       "      <td>object</td>\n",
       "      <td>172</td>\n",
       "      <td>0</td>\n",
       "      <td>4</td>\n",
       "      <td>172 rows, 26 columns</td>\n",
       "      <td>NaN</td>\n",
       "      <td>NaN</td>\n",
       "      <td>NaN</td>\n",
       "      <td>NaN</td>\n",
       "      <td>NaN</td>\n",
       "      <td>NaN</td>\n",
       "      <td>NaN</td>\n",
       "    </tr>\n",
       "    <tr>\n",
       "      <th>15</th>\n",
       "      <td>Presentacion</td>\n",
       "      <td>object</td>\n",
       "      <td>172</td>\n",
       "      <td>0</td>\n",
       "      <td>3</td>\n",
       "      <td>172 rows, 26 columns</td>\n",
       "      <td>NaN</td>\n",
       "      <td>NaN</td>\n",
       "      <td>NaN</td>\n",
       "      <td>NaN</td>\n",
       "      <td>NaN</td>\n",
       "      <td>NaN</td>\n",
       "      <td>NaN</td>\n",
       "    </tr>\n",
       "    <tr>\n",
       "      <th>16</th>\n",
       "      <td>Latitud</td>\n",
       "      <td>object</td>\n",
       "      <td>146</td>\n",
       "      <td>26</td>\n",
       "      <td>139</td>\n",
       "      <td>172 rows, 26 columns</td>\n",
       "      <td>NaN</td>\n",
       "      <td>NaN</td>\n",
       "      <td>NaN</td>\n",
       "      <td>NaN</td>\n",
       "      <td>NaN</td>\n",
       "      <td>NaN</td>\n",
       "      <td>NaN</td>\n",
       "    </tr>\n",
       "    <tr>\n",
       "      <th>17</th>\n",
       "      <td>Longitud</td>\n",
       "      <td>object</td>\n",
       "      <td>146</td>\n",
       "      <td>26</td>\n",
       "      <td>143</td>\n",
       "      <td>172 rows, 26 columns</td>\n",
       "      <td>NaN</td>\n",
       "      <td>NaN</td>\n",
       "      <td>NaN</td>\n",
       "      <td>NaN</td>\n",
       "      <td>NaN</td>\n",
       "      <td>NaN</td>\n",
       "      <td>NaN</td>\n",
       "    </tr>\n",
       "    <tr>\n",
       "      <th>18</th>\n",
       "      <td>IdArteUeAL3</td>\n",
       "      <td>object</td>\n",
       "      <td>172</td>\n",
       "      <td>0</td>\n",
       "      <td>3</td>\n",
       "      <td>172 rows, 26 columns</td>\n",
       "      <td>NaN</td>\n",
       "      <td>NaN</td>\n",
       "      <td>NaN</td>\n",
       "      <td>NaN</td>\n",
       "      <td>NaN</td>\n",
       "      <td>NaN</td>\n",
       "      <td>NaN</td>\n",
       "    </tr>\n",
       "    <tr>\n",
       "      <th>19</th>\n",
       "      <td>Arte</td>\n",
       "      <td>object</td>\n",
       "      <td>172</td>\n",
       "      <td>0</td>\n",
       "      <td>3</td>\n",
       "      <td>172 rows, 26 columns</td>\n",
       "      <td>NaN</td>\n",
       "      <td>NaN</td>\n",
       "      <td>NaN</td>\n",
       "      <td>NaN</td>\n",
       "      <td>NaN</td>\n",
       "      <td>NaN</td>\n",
       "      <td>NaN</td>\n",
       "    </tr>\n",
       "    <tr>\n",
       "      <th>20</th>\n",
       "      <td>ObservacionDesembarqueOrigen</td>\n",
       "      <td>object</td>\n",
       "      <td>2</td>\n",
       "      <td>170</td>\n",
       "      <td>2</td>\n",
       "      <td>172 rows, 26 columns</td>\n",
       "      <td>NaN</td>\n",
       "      <td>NaN</td>\n",
       "      <td>NaN</td>\n",
       "      <td>NaN</td>\n",
       "      <td>NaN</td>\n",
       "      <td>NaN</td>\n",
       "      <td>NaN</td>\n",
       "    </tr>\n",
       "    <tr>\n",
       "      <th>21</th>\n",
       "      <td>ObservacionesProduccion</td>\n",
       "      <td>float64</td>\n",
       "      <td>0</td>\n",
       "      <td>172</td>\n",
       "      <td>0</td>\n",
       "      <td>172 rows, 26 columns</td>\n",
       "      <td>NaN</td>\n",
       "      <td>NaN</td>\n",
       "      <td>NaN</td>\n",
       "      <td>NaN</td>\n",
       "      <td>NaN</td>\n",
       "      <td>NaN</td>\n",
       "      <td>NaN</td>\n",
       "    </tr>\n",
       "    <tr>\n",
       "      <th>22</th>\n",
       "      <td>PesoDesembarcadoTotal</td>\n",
       "      <td>float64</td>\n",
       "      <td>172</td>\n",
       "      <td>0</td>\n",
       "      <td>105</td>\n",
       "      <td>172 rows, 26 columns</td>\n",
       "      <td>70.629651</td>\n",
       "      <td>122.939002</td>\n",
       "      <td>1.52</td>\n",
       "      <td>15.00</td>\n",
       "      <td>39.925</td>\n",
       "      <td>63.040</td>\n",
       "      <td>846.76</td>\n",
       "    </tr>\n",
       "    <tr>\n",
       "      <th>23</th>\n",
       "      <td>PesoDesembarcadoVivoTotal</td>\n",
       "      <td>float64</td>\n",
       "      <td>172</td>\n",
       "      <td>0</td>\n",
       "      <td>109</td>\n",
       "      <td>172 rows, 26 columns</td>\n",
       "      <td>125.650581</td>\n",
       "      <td>223.661620</td>\n",
       "      <td>1.52</td>\n",
       "      <td>17.25</td>\n",
       "      <td>60.475</td>\n",
       "      <td>115.495</td>\n",
       "      <td>1524.16</td>\n",
       "    </tr>\n",
       "    <tr>\n",
       "      <th>24</th>\n",
       "      <td>PesoConsumoTotal</td>\n",
       "      <td>float64</td>\n",
       "      <td>172</td>\n",
       "      <td>0</td>\n",
       "      <td>109</td>\n",
       "      <td>172 rows, 26 columns</td>\n",
       "      <td>125.650581</td>\n",
       "      <td>223.661620</td>\n",
       "      <td>1.52</td>\n",
       "      <td>17.25</td>\n",
       "      <td>60.475</td>\n",
       "      <td>115.495</td>\n",
       "      <td>1524.16</td>\n",
       "    </tr>\n",
       "    <tr>\n",
       "      <th>25</th>\n",
       "      <td>NumPiezasTotales</td>\n",
       "      <td>int64</td>\n",
       "      <td>172</td>\n",
       "      <td>0</td>\n",
       "      <td>1</td>\n",
       "      <td>172 rows, 26 columns</td>\n",
       "      <td>0.000000</td>\n",
       "      <td>0.000000</td>\n",
       "      <td>0.00</td>\n",
       "      <td>0.00</td>\n",
       "      <td>0.000</td>\n",
       "      <td>0.000</td>\n",
       "      <td>0.00</td>\n",
       "    </tr>\n",
       "  </tbody>\n",
       "</table>\n",
       "</div>"
      ],
      "text/plain": [
       "                          Column Data Type  Non-null Count  Null Count  \\\n",
       "0                            AL3    object             172           0   \n",
       "1                        Especie    object             172           0   \n",
       "2                          Censo    object             172           0   \n",
       "3                            CFR    object             172           0   \n",
       "4                    NombreBuque    object             172           0   \n",
       "5                      Matricula    object             172           0   \n",
       "6                       Division    object             172           0   \n",
       "7                    PaisCaptura    object             172           0   \n",
       "8                      FcCaptura    object             172           0   \n",
       "9                    HoraMinutos    object             172           0   \n",
       "10                         Marea    object             172           0   \n",
       "11                      FcSalida    object             172           0   \n",
       "12                     FcRegreso    object             172           0   \n",
       "13                  PuertoSalida    object             172           0   \n",
       "14                 PuertoRegreso    object             172           0   \n",
       "15                  Presentacion    object             172           0   \n",
       "16                       Latitud    object             146          26   \n",
       "17                      Longitud    object             146          26   \n",
       "18                   IdArteUeAL3    object             172           0   \n",
       "19                          Arte    object             172           0   \n",
       "20  ObservacionDesembarqueOrigen    object               2         170   \n",
       "21       ObservacionesProduccion   float64               0         172   \n",
       "22         PesoDesembarcadoTotal   float64             172           0   \n",
       "23     PesoDesembarcadoVivoTotal   float64             172           0   \n",
       "24              PesoConsumoTotal   float64             172           0   \n",
       "25              NumPiezasTotales     int64             172           0   \n",
       "\n",
       "    Unique Values                 Shape        mean         std   min    25%  \\\n",
       "0               1  172 rows, 26 columns         NaN         NaN   NaN    NaN   \n",
       "1               1  172 rows, 26 columns         NaN         NaN   NaN    NaN   \n",
       "2               4  172 rows, 26 columns         NaN         NaN   NaN    NaN   \n",
       "3               7  172 rows, 26 columns         NaN         NaN   NaN    NaN   \n",
       "4               7  172 rows, 26 columns         NaN         NaN   NaN    NaN   \n",
       "5               7  172 rows, 26 columns         NaN         NaN   NaN    NaN   \n",
       "6               7  172 rows, 26 columns         NaN         NaN   NaN    NaN   \n",
       "7               3  172 rows, 26 columns         NaN         NaN   NaN    NaN   \n",
       "8             154  172 rows, 26 columns         NaN         NaN   NaN    NaN   \n",
       "9             111  172 rows, 26 columns         NaN         NaN   NaN    NaN   \n",
       "10             45  172 rows, 26 columns         NaN         NaN   NaN    NaN   \n",
       "11             45  172 rows, 26 columns         NaN         NaN   NaN    NaN   \n",
       "12             44  172 rows, 26 columns         NaN         NaN   NaN    NaN   \n",
       "13              8  172 rows, 26 columns         NaN         NaN   NaN    NaN   \n",
       "14              4  172 rows, 26 columns         NaN         NaN   NaN    NaN   \n",
       "15              3  172 rows, 26 columns         NaN         NaN   NaN    NaN   \n",
       "16            139  172 rows, 26 columns         NaN         NaN   NaN    NaN   \n",
       "17            143  172 rows, 26 columns         NaN         NaN   NaN    NaN   \n",
       "18              3  172 rows, 26 columns         NaN         NaN   NaN    NaN   \n",
       "19              3  172 rows, 26 columns         NaN         NaN   NaN    NaN   \n",
       "20              2  172 rows, 26 columns         NaN         NaN   NaN    NaN   \n",
       "21              0  172 rows, 26 columns         NaN         NaN   NaN    NaN   \n",
       "22            105  172 rows, 26 columns   70.629651  122.939002  1.52  15.00   \n",
       "23            109  172 rows, 26 columns  125.650581  223.661620  1.52  17.25   \n",
       "24            109  172 rows, 26 columns  125.650581  223.661620  1.52  17.25   \n",
       "25              1  172 rows, 26 columns    0.000000    0.000000  0.00   0.00   \n",
       "\n",
       "       50%      75%      max  \n",
       "0      NaN      NaN      NaN  \n",
       "1      NaN      NaN      NaN  \n",
       "2      NaN      NaN      NaN  \n",
       "3      NaN      NaN      NaN  \n",
       "4      NaN      NaN      NaN  \n",
       "5      NaN      NaN      NaN  \n",
       "6      NaN      NaN      NaN  \n",
       "7      NaN      NaN      NaN  \n",
       "8      NaN      NaN      NaN  \n",
       "9      NaN      NaN      NaN  \n",
       "10     NaN      NaN      NaN  \n",
       "11     NaN      NaN      NaN  \n",
       "12     NaN      NaN      NaN  \n",
       "13     NaN      NaN      NaN  \n",
       "14     NaN      NaN      NaN  \n",
       "15     NaN      NaN      NaN  \n",
       "16     NaN      NaN      NaN  \n",
       "17     NaN      NaN      NaN  \n",
       "18     NaN      NaN      NaN  \n",
       "19     NaN      NaN      NaN  \n",
       "20     NaN      NaN      NaN  \n",
       "21     NaN      NaN      NaN  \n",
       "22  39.925   63.040   846.76  \n",
       "23  60.475  115.495  1524.16  \n",
       "24  60.475  115.495  1524.16  \n",
       "25   0.000    0.000     0.00  "
      ]
     },
     "execution_count": 7,
     "metadata": {},
     "output_type": "execute_result"
    }
   ],
   "source": [
    "lf.describe_df(df)"
   ]
  },
  {
   "cell_type": "code",
   "execution_count": 60,
   "metadata": {},
   "outputs": [
    {
     "name": "stdout",
     "output_type": "stream",
     "text": [
      "Resumen para la columna 'AL3':\n",
      "['FAL']\n",
      "\n",
      "Resumen para la columna 'Especie':\n",
      "['Tiburón jaquetón']\n",
      "\n",
      "Resumen para la columna 'Censo':\n",
      "['ATUNEROS CERQUEROS CONGELADORES EN OCEANO ATLANTICO, INDICO Y PACIFICO'\n",
      " 'ATUNEROS CERQUEROS CONGELADORES EN OCEANO INDICO Y PACIFICO'\n",
      " 'PALANGRE DE SUPERFICIE CALADERO NACIONAL'\n",
      " 'PALANGRE DE SUPERFICIE EN AGUAS INTERNACIONALES']\n",
      "\n",
      "Resumen para la columna 'CFR':\n",
      "['ESP000000755' 'ESP000022090' 'ESP000025179' 'ESP000027578'\n",
      " 'ESP000024186' 'ESP000022405' 'ESP000025873']\n",
      "\n",
      "Resumen para la columna 'NombreBuque':\n",
      "['ALBACORA CUATRO' 'ALBACAN' 'PLAYA DE ARITZATXU' 'PLAYA DE RIS' 'OLEAJE'\n",
      " 'FRANIVAN' 'MARGUEL']\n",
      "\n",
      "Resumen para la columna 'Matricula':\n",
      "['3VI-5-9478' '3CA-3-1-91' '3BI-2-4-01' '3BI-2-1-14' '3FE-2-5-99'\n",
      " '3CU-1-1-92' '3VI-7-11-03']\n",
      "\n",
      "Resumen para la columna 'Division':\n",
      "['51.5' '51.7' '77' '87.1.4' '87.2.6' '51.6' '51.8']\n",
      "\n",
      "Resumen para la columna 'PaisCaptura':\n",
      "['AGUAS INTERNACIONALES' 'SEYCHELLES' 'TANZANIA,REP UNIDA DE']\n",
      "\n",
      "Resumen para la columna 'FcCaptura':\n",
      "['2020-03-04' '2020-04-16' '2020-06-06' '2020-06-20' '2020-08-01'\n",
      " '2020-08-12' '2020-08-25' '2021-03-03' '2021-05-04' '2021-11-26'\n",
      " '2021-12-24' '2022-01-23' '2022-07-21' '2022-09-08' '2022-10-17'\n",
      " '2023-01-20' '2023-03-02' '2021-05-05' '2022-03-15' '2022-04-30'\n",
      " '2020-02-01' '2022-08-16' '2022-02-23' '2022-03-06' '2022-03-07'\n",
      " '2022-03-08' '2022-03-09' '2022-04-05' '2022-06-29' '2022-07-01'\n",
      " '2022-08-10' '2022-08-11' '2022-08-23' '2022-08-28' '2022-09-15'\n",
      " '2022-09-20' '2022-10-20' '2022-12-03' '2023-01-08' '2023-02-28'\n",
      " '2023-03-17' '2023-03-19' '2023-04-29' '2023-08-16' '2022-02-19'\n",
      " '2022-02-20' '2022-02-21' '2022-02-24' '2022-02-26' '2022-02-27'\n",
      " '2022-02-28' '2022-03-01' '2022-03-02' '2022-03-03' '2022-03-04'\n",
      " '2022-03-20' '2022-03-29' '2022-04-29' '2022-05-10' '2023-07-01'\n",
      " '2023-05-25' '2020-11-26' '2021-03-30' '2020-06-04' '2020-06-07'\n",
      " '2020-06-08' '2020-06-10' '2020-06-11' '2020-06-13' '2020-06-14'\n",
      " '2020-06-16' '2020-06-17' '2020-06-19' '2020-06-22' '2020-06-23'\n",
      " '2020-10-22' '2021-04-06' '2021-04-08' '2021-04-18' '2020-10-23'\n",
      " '2020-10-24' '2020-10-26' '2020-10-27' '2020-10-28' '2018-06-19'\n",
      " '2018-06-20' '2018-06-23' '2018-06-26' '2018-06-28' '2018-07-01'\n",
      " '2018-07-04' '2018-11-24' '2018-11-26' '2018-11-30' '2018-06-11'\n",
      " '2018-06-13' '2018-06-14' '2018-07-05' '2018-07-06' '2018-07-17'\n",
      " '2018-07-18' '2018-08-03' '2018-08-04' '2018-08-06' '2018-08-10'\n",
      " '2018-08-13' '2018-11-18' '2018-12-03' '2019-02-26' '2019-03-06'\n",
      " '2019-04-27' '2019-05-01' '2019-05-02' '2019-05-03' '2019-05-04'\n",
      " '2019-05-06' '2019-05-07' '2019-05-08' '2019-05-09' '2019-05-10'\n",
      " '2019-05-11' '2018-07-14' '2018-07-15' '2018-07-23' '2018-07-27'\n",
      " '2018-07-30' '2018-07-31' '2018-08-05' '2018-10-05' '2018-10-06'\n",
      " '2018-10-08' '2018-07-03' '2018-07-09' '2018-07-10' '2018-04-04'\n",
      " '2018-04-07' '2018-04-18' '2018-04-20' '2018-04-21' '2018-04-23'\n",
      " '2018-04-27' '2018-04-29' '2018-04-30' '2018-05-01' '2018-05-07'\n",
      " '2018-05-17' '2018-05-24' '2018-06-15' '2018-06-17' '2018-06-25'\n",
      " '2018-06-27' '2018-08-28' '2018-11-28' '2018-12-02']\n",
      "\n",
      "Resumen para la columna 'HoraMinutos':\n",
      "['4:20' '3:10' '7:0' '5:55' '2:37' '8:42' '10:0' '10:10' '2:5' '1:30'\n",
      " '6:15' '2:30' '4:14' '7:50' '2:0' '3:5' '2:35' '8:10' '3:15' '8:50'\n",
      " '2:55' '3:0' '9:30' '3:20' '2:20' '6:50' '2:45' '7:15' '7:45' '4:5'\n",
      " '2:40' '2:50' '4:10' '2:25' '5:30' '10:5' '5:45' '5:0' '9:50' '9:25'\n",
      " '9:20' '9:0' '11:15' '13:55' '12:40' '6:30' '14:15' '7:55' '4:15' '23:0'\n",
      " '23:57' '23:15' '23:28' '21:3' '23:14' '23:22' '22:52' '21:44' '22:10'\n",
      " '23:55' '23:12' '23:1' '23:30' '6:0' '22:53' '14:0' '14:50' '13:50'\n",
      " '15:15' '14:30' '12:30' '13:45' '11:5' '17:0' '12:50' '13:35' '13:10'\n",
      " '13:40' '12:21' '14:24' '12:0' '14:4' '12:17' '12:35' '14:10' '13:25'\n",
      " '14:25' '13:30' '15:10' '14:35' '15:35' '16:48' '15:5' '14:5' '13:5'\n",
      " '12:32' '13:16' '13:41' '11:49' '12:52' '14:55' '13:0' '14:45' '15:0'\n",
      " '15:28' '17:37' '14:8' '16:58' '13:44' '16:44' '12:46']\n",
      "\n",
      "Resumen para la columna 'Marea':\n",
      "['ESP-TRP-00075520200215065554' 'ESP-TRP-00075520200318045459'\n",
      " 'ESP-TRP-00075520200605164958' 'ESP-TRP-00075520200722140447'\n",
      " 'ESP-TRP-00075520210209092721' 'ESP-TRP-00075520210417140639'\n",
      " 'ESP-TRP-00075520211116175444' 'ESP-TRP-00075520211207121022'\n",
      " 'ESP-TRP-00075520220118134015' 'ESP-TRP-00075520220711042954'\n",
      " 'ESP-TRP-00075520220818134919' 'ESP-TRP-00075520220925120619'\n",
      " 'ESP-TRP-00075520230107093323' 'ESP-TRP-00075520230201135206'\n",
      " 'ESP-TRP-00075520220226141655' 'ESP-TRP-00075520220328152752'\n",
      " 'ESP-TRP-02209020200130030900' 'ESP-TRP-02517920220721095557'\n",
      " 'ESP-TRP-02757820220218122804' 'ESP-TRP-02757820220317025524'\n",
      " 'ESP-TRP-02757820220617061439' 'ESP-TRP-02757820220722024219'\n",
      " 'ESP-TRP-02757820220819134038' 'ESP-TRP-02757820220909121628'\n",
      " 'ESP-TRP-02757820221015125401' 'ESP-TRP-02757820221124050517'\n",
      " 'ESP-TRP-02757820230101034900' 'ESP-TRP-02757820230117044737'\n",
      " 'ESP-TRP-02757820230220135615' 'ESP-TRP-02757820230309092519'\n",
      " 'ESP-TRP-02757820230410022905' 'ESP-TRP-02757820230728171200'\n",
      " 'ESP-TRP-02757820220414142329' 'ESP-TRP-02757820230615124923'\n",
      " 'ESP-TRP-02757820230519090848' 'ESP-TRP-02418620200705212219'\n",
      " 'ESP-TRP-02418620210325170214' 'ESP-TRP-02418620200227193621'\n",
      " 'EA6754-20180606052352K' 'ESP-TRP-02240520181115065759'\n",
      " 'ESP-TRP-02240520190219071855' 'ESP-TRP-02240520190425061141'\n",
      " 'ECFB-20180603114659Q' 'ECFB-20180906072528U' 'ECFB-20180301133044A']\n",
      "\n",
      "Resumen para la columna 'FcSalida':\n",
      "['2020-02-15' '2020-03-18' '2020-06-05' '2020-07-22' '2021-02-09'\n",
      " '2021-04-17' '2021-11-16' '2021-12-07' '2022-01-18' '2022-07-11'\n",
      " '2022-08-18' '2022-09-25' '2023-01-07' '2023-02-01' '2022-02-26'\n",
      " '2022-03-28' '2020-01-30' '2022-07-21' '2022-02-18' '2022-03-17'\n",
      " '2022-06-17' '2022-07-22' '2022-08-19' '2022-09-09' '2022-10-15'\n",
      " '2022-11-24' '2023-01-01' '2023-01-17' '2023-02-20' '2023-03-09'\n",
      " '2023-04-10' '2023-07-28' '2022-04-14' '2023-06-15' '2023-05-19'\n",
      " '2020-07-05' '2021-03-25' '2020-02-27' '2018-06-06' '2018-11-15'\n",
      " '2019-02-19' '2019-04-25' '2018-06-03' '2018-09-06' '2018-03-01']\n",
      "\n",
      "Resumen para la columna 'FcRegreso':\n",
      "['2020-03-09' '2020-04-20' '2020-07-16' '2020-09-07' '2021-03-07'\n",
      " '2021-05-06' '2021-12-01' '2022-01-06' '2022-02-21' '2022-08-09'\n",
      " '2022-09-19' '2022-10-25' '2023-01-23' '2023-03-06' '2022-03-20'\n",
      " '2022-05-03' '2020-02-15' '2022-08-21' '2022-03-12' '2022-04-11'\n",
      " '2022-07-10' '2022-08-16' '2022-09-06' '2022-10-06' '2022-11-11'\n",
      " '2022-12-10' '2023-01-10' '2023-02-14' '2023-04-05' '2023-05-15'\n",
      " '2023-08-19' '2022-05-11' '2023-07-14' '2023-06-09' '2020-11-29'\n",
      " '2021-06-28' '2020-06-30' '2018-08-17' '2018-12-12' '2019-04-18'\n",
      " '2019-07-04' '2018-08-30' '2018-12-07' '2018-05-29']\n",
      "\n",
      "Resumen para la columna 'PuertoSalida':\n",
      "['Port Victoria' 'Diego Suarez' 'Antsiranana' 'Mahe' 'Vacamonte' 'Balboa'\n",
      " 'Durban' 'Mindelo']\n",
      "\n",
      "Resumen para la columna 'PuertoRegreso':\n",
      "['Port Victoria' 'Mahe' 'Vacamonte' 'Durban']\n",
      "\n",
      "Resumen para la columna 'Presentacion':\n",
      "['Entero' 'Eviscerado y descabezado' 'Eviscerado, descabezado y sin cola']\n",
      "\n",
      "Resumen para la columna 'IdArteUeAL3':\n",
      "['PS' 'PS1' 'LLD']\n",
      "\n",
      "Resumen para la columna 'Arte':\n",
      "['Cerco con jareta' 'Red de cerco con jareta desde una embarcación'\n",
      " 'Palangre de superficie']\n",
      "\n",
      "Resumen para la columna 'ObservacionDesembarqueOrigen':\n",
      "[nan\n",
      " 'He tenido que introducir manualmente 4 declaraciones, ya que después de varias llamadas al centro de atención telefónica y probar todas las opciones,'\n",
      " 'Con motivo del parche efectuado para la nueva actualización del DEA, y por indicaciones telefónicas con ustedes, he tenido que realizar el desembarqu']\n",
      "\n"
     ]
    }
   ],
   "source": [
    "lf.unique_df(df)"
   ]
  },
  {
   "cell_type": "markdown",
   "metadata": {},
   "source": [
    "### **3. Preprocesamiento de Datos:**\n",
    "   Antes de aplicar técnicas de clustering, es probable que necesites realizar algunas tareas de preprocesamiento. Esto podría implicar la limpieza de datos faltantes o erróneos, normalización de características y selección de atributos relevantes. Por lo tanto:\n",
    "   - Convertimos las coordenadas separadas por la comma a formato numerico.\n",
    "   - Agregamos el PesoConsumo por las columnas de interés.\n",
    "   - Posteriormente durante la aplicacion del algoritmo normalizamos los datos para manejar outliers y mejorar la interpretacion."
   ]
  },
  {
   "cell_type": "code",
   "execution_count": 6,
   "metadata": {},
   "outputs": [],
   "source": [
    "for col in ['Latitud', 'Longitud']:\n",
    "    df[col] = df[col].str.replace(',', '.').astype(float)"
   ]
  },
  {
   "cell_type": "code",
   "execution_count": 7,
   "metadata": {},
   "outputs": [],
   "source": [
    "groupby_cols = ['Latitud', 'Longitud', 'Especie', 'FcCaptura', 'HoraMinutos', 'Arte', 'Division', 'NombreBuque'] \n",
    "operation_choices = {'PesoConsumoTotal' : 'sum'}\n",
    "\n",
    "aggregated_fishdata = lf.groupby_df(df, groupby_cols, operation_choices)"
   ]
  },
  {
   "cell_type": "code",
   "execution_count": 8,
   "metadata": {},
   "outputs": [
    {
     "data": {
      "text/html": [
       "<div>\n",
       "<style scoped>\n",
       "    .dataframe tbody tr th:only-of-type {\n",
       "        vertical-align: middle;\n",
       "    }\n",
       "\n",
       "    .dataframe tbody tr th {\n",
       "        vertical-align: top;\n",
       "    }\n",
       "\n",
       "    .dataframe thead th {\n",
       "        text-align: right;\n",
       "    }\n",
       "</style>\n",
       "<table border=\"1\" class=\"dataframe\">\n",
       "  <thead>\n",
       "    <tr style=\"text-align: right;\">\n",
       "      <th></th>\n",
       "      <th>Latitud</th>\n",
       "      <th>Longitud</th>\n",
       "      <th>Especie</th>\n",
       "      <th>FcCaptura</th>\n",
       "      <th>HoraMinutos</th>\n",
       "      <th>Arte</th>\n",
       "      <th>Division</th>\n",
       "      <th>NombreBuque</th>\n",
       "      <th>PesoConsumoTotal</th>\n",
       "    </tr>\n",
       "  </thead>\n",
       "  <tbody>\n",
       "    <tr>\n",
       "      <th>0</th>\n",
       "      <td>-34.7833</td>\n",
       "      <td>32.1480</td>\n",
       "      <td>Tiburón jaquetón</td>\n",
       "      <td>2018-04-07</td>\n",
       "      <td>13:16</td>\n",
       "      <td>Palangre de superficie</td>\n",
       "      <td>51.8</td>\n",
       "      <td>MARGUEL</td>\n",
       "      <td>96.04</td>\n",
       "    </tr>\n",
       "    <tr>\n",
       "      <th>1</th>\n",
       "      <td>-34.5500</td>\n",
       "      <td>32.3000</td>\n",
       "      <td>Tiburón jaquetón</td>\n",
       "      <td>2018-04-04</td>\n",
       "      <td>12:32</td>\n",
       "      <td>Palangre de superficie</td>\n",
       "      <td>51.8</td>\n",
       "      <td>MARGUEL</td>\n",
       "      <td>211.05</td>\n",
       "    </tr>\n",
       "    <tr>\n",
       "      <th>2</th>\n",
       "      <td>-33.8333</td>\n",
       "      <td>33.6833</td>\n",
       "      <td>Tiburón jaquetón</td>\n",
       "      <td>2018-04-27</td>\n",
       "      <td>13:40</td>\n",
       "      <td>Palangre de superficie</td>\n",
       "      <td>51.8</td>\n",
       "      <td>MARGUEL</td>\n",
       "      <td>96.04</td>\n",
       "    </tr>\n",
       "    <tr>\n",
       "      <th>3</th>\n",
       "      <td>-33.0000</td>\n",
       "      <td>34.7500</td>\n",
       "      <td>Tiburón jaquetón</td>\n",
       "      <td>2018-05-24</td>\n",
       "      <td>15:0</td>\n",
       "      <td>Palangre de superficie</td>\n",
       "      <td>51.8</td>\n",
       "      <td>MARGUEL</td>\n",
       "      <td>109.04</td>\n",
       "    </tr>\n",
       "    <tr>\n",
       "      <th>4</th>\n",
       "      <td>-32.9667</td>\n",
       "      <td>35.3667</td>\n",
       "      <td>Tiburón jaquetón</td>\n",
       "      <td>2018-04-21</td>\n",
       "      <td>11:49</td>\n",
       "      <td>Palangre de superficie</td>\n",
       "      <td>51.8</td>\n",
       "      <td>MARGUEL</td>\n",
       "      <td>109.04</td>\n",
       "    </tr>\n",
       "    <tr>\n",
       "      <th>...</th>\n",
       "      <td>...</td>\n",
       "      <td>...</td>\n",
       "      <td>...</td>\n",
       "      <td>...</td>\n",
       "      <td>...</td>\n",
       "      <td>...</td>\n",
       "      <td>...</td>\n",
       "      <td>...</td>\n",
       "      <td>...</td>\n",
       "    </tr>\n",
       "    <tr>\n",
       "      <th>141</th>\n",
       "      <td>5.8667</td>\n",
       "      <td>59.2167</td>\n",
       "      <td>Tiburón jaquetón</td>\n",
       "      <td>2023-01-20</td>\n",
       "      <td>2:0</td>\n",
       "      <td>Cerco con jareta</td>\n",
       "      <td>51.5</td>\n",
       "      <td>ALBACORA CUATRO</td>\n",
       "      <td>32.00</td>\n",
       "    </tr>\n",
       "    <tr>\n",
       "      <th>142</th>\n",
       "      <td>6.2667</td>\n",
       "      <td>56.2667</td>\n",
       "      <td>Tiburón jaquetón</td>\n",
       "      <td>2022-08-16</td>\n",
       "      <td>8:50</td>\n",
       "      <td>Cerco con jareta</td>\n",
       "      <td>51.5</td>\n",
       "      <td>PLAYA DE ARITZATXU</td>\n",
       "      <td>33.00</td>\n",
       "    </tr>\n",
       "    <tr>\n",
       "      <th>143</th>\n",
       "      <td>6.6500</td>\n",
       "      <td>56.0667</td>\n",
       "      <td>Tiburón jaquetón</td>\n",
       "      <td>2023-01-20</td>\n",
       "      <td>5:30</td>\n",
       "      <td>Cerco con jareta</td>\n",
       "      <td>51.5</td>\n",
       "      <td>PLAYA DE RIS</td>\n",
       "      <td>20.00</td>\n",
       "    </tr>\n",
       "    <tr>\n",
       "      <th>144</th>\n",
       "      <td>6.9833</td>\n",
       "      <td>61.3833</td>\n",
       "      <td>Tiburón jaquetón</td>\n",
       "      <td>2021-03-03</td>\n",
       "      <td>10:0</td>\n",
       "      <td>Cerco con jareta</td>\n",
       "      <td>51.5</td>\n",
       "      <td>ALBACORA CUATRO</td>\n",
       "      <td>81.00</td>\n",
       "    </tr>\n",
       "    <tr>\n",
       "      <th>145</th>\n",
       "      <td>8.3000</td>\n",
       "      <td>61.8167</td>\n",
       "      <td>Tiburón jaquetón</td>\n",
       "      <td>2022-01-23</td>\n",
       "      <td>6:15</td>\n",
       "      <td>Cerco con jareta</td>\n",
       "      <td>51.5</td>\n",
       "      <td>ALBACORA CUATRO</td>\n",
       "      <td>31.00</td>\n",
       "    </tr>\n",
       "  </tbody>\n",
       "</table>\n",
       "<p>146 rows × 9 columns</p>\n",
       "</div>"
      ],
      "text/plain": [
       "     Latitud  Longitud           Especie   FcCaptura HoraMinutos  \\\n",
       "0   -34.7833   32.1480  Tiburón jaquetón  2018-04-07       13:16   \n",
       "1   -34.5500   32.3000  Tiburón jaquetón  2018-04-04       12:32   \n",
       "2   -33.8333   33.6833  Tiburón jaquetón  2018-04-27       13:40   \n",
       "3   -33.0000   34.7500  Tiburón jaquetón  2018-05-24        15:0   \n",
       "4   -32.9667   35.3667  Tiburón jaquetón  2018-04-21       11:49   \n",
       "..       ...       ...               ...         ...         ...   \n",
       "141   5.8667   59.2167  Tiburón jaquetón  2023-01-20         2:0   \n",
       "142   6.2667   56.2667  Tiburón jaquetón  2022-08-16        8:50   \n",
       "143   6.6500   56.0667  Tiburón jaquetón  2023-01-20        5:30   \n",
       "144   6.9833   61.3833  Tiburón jaquetón  2021-03-03        10:0   \n",
       "145   8.3000   61.8167  Tiburón jaquetón  2022-01-23        6:15   \n",
       "\n",
       "                       Arte Division         NombreBuque  PesoConsumoTotal  \n",
       "0    Palangre de superficie     51.8             MARGUEL             96.04  \n",
       "1    Palangre de superficie     51.8             MARGUEL            211.05  \n",
       "2    Palangre de superficie     51.8             MARGUEL             96.04  \n",
       "3    Palangre de superficie     51.8             MARGUEL            109.04  \n",
       "4    Palangre de superficie     51.8             MARGUEL            109.04  \n",
       "..                      ...      ...                 ...               ...  \n",
       "141        Cerco con jareta     51.5     ALBACORA CUATRO             32.00  \n",
       "142        Cerco con jareta     51.5  PLAYA DE ARITZATXU             33.00  \n",
       "143        Cerco con jareta     51.5        PLAYA DE RIS             20.00  \n",
       "144        Cerco con jareta     51.5     ALBACORA CUATRO             81.00  \n",
       "145        Cerco con jareta     51.5     ALBACORA CUATRO             31.00  \n",
       "\n",
       "[146 rows x 9 columns]"
      ]
     },
     "execution_count": 8,
     "metadata": {},
     "output_type": "execute_result"
    }
   ],
   "source": [
    "aggregated_fishdata"
   ]
  },
  {
   "cell_type": "markdown",
   "metadata": {},
   "source": [
    "### **4. Selección de Algoritmos de Clustering:**\n",
    "\n",
    "#### **4.1. KMeans**\n",
    "\n",
    "K-means es un algoritmo de clasificación no supervisada (clusterización) que agrupa objetos en k grupos basándose en sus características. El agrupamiento se realiza minimizando la suma de distancias entre cada objeto y el centroide de su grupo o cluster. Se suele usar la distancia cuadrática.\n",
    "\n",
    "El algoritmo consta de tres pasos:\n",
    "\n",
    "1. **Inicialización:** una vez escogido el número de grupos, k, se establecen k centroides en el espacio de los datos, por ejemplo, escogiéndolos aleatoriamente. `¿Como elegir el numero más apropiado de clusters para mi analisis?`\n",
    "2. **Asignación objetos a los centroides:** cada objeto de los datos es asignado a su centroide más cercano.\n",
    "3. **Actualización centroides:** se actualiza la posición del centroide de cada grupo tomando como nuevo centroide la posición del promedio de los objetos pertenecientes a dicho grupo.\n",
    "Se repiten los pasos 2 y 3 hasta que los centroides no se mueven, o se mueven por debajo de una distancia umbral en cada paso.\n",
    "\n",
    "El algoritmo k-means resuelve un problema de optimización, siendo la función a optimizar (minimizar) la suma de las distancias cuadráticas de cada objeto al centroide de su cluster.\n",
    "\n",
    "Los objetos se representan con vectores reales de d dimensiones  (x1,x2,…,xn) y el algoritmo k-means construye k grupos donde se minimiza la suma de distancias de los objetos, dentro de cada grupo  S={S1,S2,…,Sk}, a su centroide. El problema se puede formular de la siguiente forma:\n",
    "\n",
    "\n",
    "$$\n",
    "\\begin{align}\n",
    "\n",
    "minSE(μi)=minS∑i=1k∑xj∈Si∥xj−μi∥2(1)\n",
    "\n",
    "\\end{align}\n",
    "$$\n",
    "\n",
    "donde S es el conjunto de datos cuyos elementos son los objetos xj representados por vectores, donde cada uno de sus elementos representa una característica o atributo. Tendremos k grupos o clusters con su correspondiente centroide  μi.\n",
    "\n",
    "En cada actualización de los centroides, desde el punto de vista matemático, imponemos la condición necesaria de extremo a la función  E(μi) que, para la función cuadrática  (1)  es\n",
    "\n",
    "$$\n",
    "\\begin{align}\n",
    "\n",
    "∂E∂μi=0⟹μ(t+1)i=1∣∣S(t)i∣∣∑xj∈S(t)ixj\n",
    "\n",
    "\\end{align}\n",
    "$$\n",
    "y se toma el promedio de los elementos de cada grupo como nuevo centroide.\n",
    "\n",
    "Las **principales ventajas** del método k-means son que es un método sencillo y rápido. Pero es necesario decidir el valor de k y el resultado final depende de la inicialización de los centroides. En principio no converge al mínimo global sino a un mínimo local.\n",
    "\n",
    "En esta sección utilizaremos el algoritmo KMeans para realizar un analisis cluster del dataset, seleccionando unas variables de interés. KMeans se utiliza comúnmente para la segmentación de mercados, la compresión de imágenes, la detección de anomalías y más. Ofrece una manera versátil de descubrir patrones y agrupaciones dentro de conjuntos de datos. El resultado de KMeans es un conjunto de etiquetas de cluster asignadas a cada punto de datos, indicando a qué cluster pertenece. Además, se roporcionan las posiciones finales de los centroides. Se recomienda realizar un escalado de características antes de aplicar KMeans, ya que el algoritmo es sensible a la escala de las características en el conjunto de datos.\n",
    "\n",
    "**Limitaciones:** KMeans es sensible a la ubicación inicial de los centroides y asume que los clusters son esféricos y de igual tamaño. Es posible que no funcione bien cuando se enfrenta a clusters de formas, tamaños y densidades diferentes."
   ]
  },
  {
   "cell_type": "markdown",
   "metadata": {},
   "source": [
    "> Vamos a usar la función KMeans de la librería sklearn."
   ]
  },
  {
   "cell_type": "markdown",
   "metadata": {},
   "source": [
    "https://www.unioviedo.es/compnum/laboratorios_py/kmeans/kmeans.html"
   ]
  },
  {
   "cell_type": "code",
   "execution_count": 13,
   "metadata": {},
   "outputs": [
    {
     "name": "stderr",
     "output_type": "stream",
     "text": [
      "c:\\Program Files\\Python311\\Lib\\site-packages\\sklearn\\cluster\\_kmeans.py:870: FutureWarning: The default value of `n_init` will change from 10 to 'auto' in 1.4. Set the value of `n_init` explicitly to suppress the warning\n",
      "  warnings.warn(\n"
     ]
    },
    {
     "data": {
      "text/html": [
       "<style>#sk-container-id-2 {color: black;background-color: white;}#sk-container-id-2 pre{padding: 0;}#sk-container-id-2 div.sk-toggleable {background-color: white;}#sk-container-id-2 label.sk-toggleable__label {cursor: pointer;display: block;width: 100%;margin-bottom: 0;padding: 0.3em;box-sizing: border-box;text-align: center;}#sk-container-id-2 label.sk-toggleable__label-arrow:before {content: \"▸\";float: left;margin-right: 0.25em;color: #696969;}#sk-container-id-2 label.sk-toggleable__label-arrow:hover:before {color: black;}#sk-container-id-2 div.sk-estimator:hover label.sk-toggleable__label-arrow:before {color: black;}#sk-container-id-2 div.sk-toggleable__content {max-height: 0;max-width: 0;overflow: hidden;text-align: left;background-color: #f0f8ff;}#sk-container-id-2 div.sk-toggleable__content pre {margin: 0.2em;color: black;border-radius: 0.25em;background-color: #f0f8ff;}#sk-container-id-2 input.sk-toggleable__control:checked~div.sk-toggleable__content {max-height: 200px;max-width: 100%;overflow: auto;}#sk-container-id-2 input.sk-toggleable__control:checked~label.sk-toggleable__label-arrow:before {content: \"▾\";}#sk-container-id-2 div.sk-estimator input.sk-toggleable__control:checked~label.sk-toggleable__label {background-color: #d4ebff;}#sk-container-id-2 div.sk-label input.sk-toggleable__control:checked~label.sk-toggleable__label {background-color: #d4ebff;}#sk-container-id-2 input.sk-hidden--visually {border: 0;clip: rect(1px 1px 1px 1px);clip: rect(1px, 1px, 1px, 1px);height: 1px;margin: -1px;overflow: hidden;padding: 0;position: absolute;width: 1px;}#sk-container-id-2 div.sk-estimator {font-family: monospace;background-color: #f0f8ff;border: 1px dotted black;border-radius: 0.25em;box-sizing: border-box;margin-bottom: 0.5em;}#sk-container-id-2 div.sk-estimator:hover {background-color: #d4ebff;}#sk-container-id-2 div.sk-parallel-item::after {content: \"\";width: 100%;border-bottom: 1px solid gray;flex-grow: 1;}#sk-container-id-2 div.sk-label:hover label.sk-toggleable__label {background-color: #d4ebff;}#sk-container-id-2 div.sk-serial::before {content: \"\";position: absolute;border-left: 1px solid gray;box-sizing: border-box;top: 0;bottom: 0;left: 50%;z-index: 0;}#sk-container-id-2 div.sk-serial {display: flex;flex-direction: column;align-items: center;background-color: white;padding-right: 0.2em;padding-left: 0.2em;position: relative;}#sk-container-id-2 div.sk-item {position: relative;z-index: 1;}#sk-container-id-2 div.sk-parallel {display: flex;align-items: stretch;justify-content: center;background-color: white;position: relative;}#sk-container-id-2 div.sk-item::before, #sk-container-id-2 div.sk-parallel-item::before {content: \"\";position: absolute;border-left: 1px solid gray;box-sizing: border-box;top: 0;bottom: 0;left: 50%;z-index: -1;}#sk-container-id-2 div.sk-parallel-item {display: flex;flex-direction: column;z-index: 1;position: relative;background-color: white;}#sk-container-id-2 div.sk-parallel-item:first-child::after {align-self: flex-end;width: 50%;}#sk-container-id-2 div.sk-parallel-item:last-child::after {align-self: flex-start;width: 50%;}#sk-container-id-2 div.sk-parallel-item:only-child::after {width: 0;}#sk-container-id-2 div.sk-dashed-wrapped {border: 1px dashed gray;margin: 0 0.4em 0.5em 0.4em;box-sizing: border-box;padding-bottom: 0.4em;background-color: white;}#sk-container-id-2 div.sk-label label {font-family: monospace;font-weight: bold;display: inline-block;line-height: 1.2em;}#sk-container-id-2 div.sk-label-container {text-align: center;}#sk-container-id-2 div.sk-container {/* jupyter's `normalize.less` sets `[hidden] { display: none; }` but bootstrap.min.css set `[hidden] { display: none !important; }` so we also need the `!important` here to be able to override the default hidden behavior on the sphinx rendered scikit-learn.org. See: https://github.com/scikit-learn/scikit-learn/issues/21755 */display: inline-block !important;position: relative;}#sk-container-id-2 div.sk-text-repr-fallback {display: none;}</style><div id=\"sk-container-id-2\" class=\"sk-top-container\"><div class=\"sk-text-repr-fallback\"><pre>KMeans(n_clusters=3)</pre><b>In a Jupyter environment, please rerun this cell to show the HTML representation or trust the notebook. <br />On GitHub, the HTML representation is unable to render, please try loading this page with nbviewer.org.</b></div><div class=\"sk-container\" hidden><div class=\"sk-item\"><div class=\"sk-estimator sk-toggleable\"><input class=\"sk-toggleable__control sk-hidden--visually\" id=\"sk-estimator-id-2\" type=\"checkbox\" checked><label for=\"sk-estimator-id-2\" class=\"sk-toggleable__label sk-toggleable__label-arrow\">KMeans</label><div class=\"sk-toggleable__content\"><pre>KMeans(n_clusters=3)</pre></div></div></div></div></div>"
      ],
      "text/plain": [
       "KMeans(n_clusters=3)"
      ]
     },
     "execution_count": 13,
     "metadata": {},
     "output_type": "execute_result"
    }
   ],
   "source": [
    "from sklearn.cluster import KMeans\n",
    "from sklearn.preprocessing import StandardScaler\n",
    "import matplotlib.pyplot as plt\n",
    "\n",
    "# Seleccionamos las variables para el cluster\n",
    "selected_features = ['Latitud', 'Longitud', 'PesoConsumoTotal']\n",
    "\n",
    "# Normalizamos los datos\n",
    "scaler = StandardScaler()\n",
    "normalized_data = scaler.fit_transform(aggregated_fishdata[selected_features])\n",
    "\n",
    "n = 3\n",
    "k_means = KMeans(n_clusters=n)\n",
    "k_means.fit(normalized_data)"
   ]
  },
  {
   "cell_type": "code",
   "execution_count": 61,
   "metadata": {},
   "outputs": [],
   "source": [
    "from sklearn.cluster import KMeans\n",
    "from sklearn.preprocessing import StandardScaler\n",
    "\n",
    "# Seleccionamos las variables para el cluster\n",
    "selected_features = ['Latitud', 'Longitud', 'PesoConsumoTotal']\n",
    "\n",
    "# Normalizamos los datos\n",
    "scaler = StandardScaler()\n",
    "normalized_data = scaler.fit_transform(aggregated_fishdata[selected_features])\n",
    "\n",
    "# Seleccionamos el numero de clusters K y el numero de iteraciones explicitamente\n",
    "num_clusters = 4\n",
    "n_init = 100 \n",
    "\n",
    "# Inicializamos el modelo clustering KMeans\n",
    "kmeans = KMeans(n_clusters=num_clusters, n_init=n_init)\n",
    "\n",
    "# Ajustamos el modelo a los datos\n",
    "clusters = kmeans.fit_predict(normalized_data)\n",
    "\n",
    "# Añadimos las etiquetas del cluster al Dataframe\n",
    "aggregated_fishdata['Cluster'] = clusters"
   ]
  },
  {
   "cell_type": "code",
   "execution_count": 62,
   "metadata": {},
   "outputs": [
    {
     "data": {
      "text/html": [
       "<div>\n",
       "<style scoped>\n",
       "    .dataframe tbody tr th:only-of-type {\n",
       "        vertical-align: middle;\n",
       "    }\n",
       "\n",
       "    .dataframe tbody tr th {\n",
       "        vertical-align: top;\n",
       "    }\n",
       "\n",
       "    .dataframe thead th {\n",
       "        text-align: right;\n",
       "    }\n",
       "</style>\n",
       "<table border=\"1\" class=\"dataframe\">\n",
       "  <thead>\n",
       "    <tr style=\"text-align: right;\">\n",
       "      <th></th>\n",
       "      <th>Latitud</th>\n",
       "      <th>Longitud</th>\n",
       "      <th>Especie</th>\n",
       "      <th>FcCaptura</th>\n",
       "      <th>HoraMinutos</th>\n",
       "      <th>Arte</th>\n",
       "      <th>Division</th>\n",
       "      <th>NombreBuque</th>\n",
       "      <th>PesoConsumoTotal</th>\n",
       "      <th>Cluster</th>\n",
       "    </tr>\n",
       "  </thead>\n",
       "  <tbody>\n",
       "    <tr>\n",
       "      <th>0</th>\n",
       "      <td>-34.7833</td>\n",
       "      <td>32.1480</td>\n",
       "      <td>Tiburón jaquetón</td>\n",
       "      <td>2018-04-07</td>\n",
       "      <td>13:16</td>\n",
       "      <td>Palangre de superficie</td>\n",
       "      <td>51.8</td>\n",
       "      <td>MARGUEL</td>\n",
       "      <td>96.04</td>\n",
       "      <td>1</td>\n",
       "    </tr>\n",
       "    <tr>\n",
       "      <th>1</th>\n",
       "      <td>-34.5500</td>\n",
       "      <td>32.3000</td>\n",
       "      <td>Tiburón jaquetón</td>\n",
       "      <td>2018-04-04</td>\n",
       "      <td>12:32</td>\n",
       "      <td>Palangre de superficie</td>\n",
       "      <td>51.8</td>\n",
       "      <td>MARGUEL</td>\n",
       "      <td>211.05</td>\n",
       "      <td>7</td>\n",
       "    </tr>\n",
       "    <tr>\n",
       "      <th>2</th>\n",
       "      <td>-33.8333</td>\n",
       "      <td>33.6833</td>\n",
       "      <td>Tiburón jaquetón</td>\n",
       "      <td>2018-04-27</td>\n",
       "      <td>13:40</td>\n",
       "      <td>Palangre de superficie</td>\n",
       "      <td>51.8</td>\n",
       "      <td>MARGUEL</td>\n",
       "      <td>96.04</td>\n",
       "      <td>1</td>\n",
       "    </tr>\n",
       "    <tr>\n",
       "      <th>3</th>\n",
       "      <td>-33.0000</td>\n",
       "      <td>34.7500</td>\n",
       "      <td>Tiburón jaquetón</td>\n",
       "      <td>2018-05-24</td>\n",
       "      <td>15:0</td>\n",
       "      <td>Palangre de superficie</td>\n",
       "      <td>51.8</td>\n",
       "      <td>MARGUEL</td>\n",
       "      <td>109.04</td>\n",
       "      <td>1</td>\n",
       "    </tr>\n",
       "    <tr>\n",
       "      <th>4</th>\n",
       "      <td>-32.9667</td>\n",
       "      <td>35.3667</td>\n",
       "      <td>Tiburón jaquetón</td>\n",
       "      <td>2018-04-21</td>\n",
       "      <td>11:49</td>\n",
       "      <td>Palangre de superficie</td>\n",
       "      <td>51.8</td>\n",
       "      <td>MARGUEL</td>\n",
       "      <td>109.04</td>\n",
       "      <td>1</td>\n",
       "    </tr>\n",
       "    <tr>\n",
       "      <th>...</th>\n",
       "      <td>...</td>\n",
       "      <td>...</td>\n",
       "      <td>...</td>\n",
       "      <td>...</td>\n",
       "      <td>...</td>\n",
       "      <td>...</td>\n",
       "      <td>...</td>\n",
       "      <td>...</td>\n",
       "      <td>...</td>\n",
       "      <td>...</td>\n",
       "    </tr>\n",
       "    <tr>\n",
       "      <th>141</th>\n",
       "      <td>5.8667</td>\n",
       "      <td>59.2167</td>\n",
       "      <td>Tiburón jaquetón</td>\n",
       "      <td>2023-01-20</td>\n",
       "      <td>2:0</td>\n",
       "      <td>Cerco con jareta</td>\n",
       "      <td>51.5</td>\n",
       "      <td>ALBACORA CUATRO</td>\n",
       "      <td>32.00</td>\n",
       "      <td>2</td>\n",
       "    </tr>\n",
       "    <tr>\n",
       "      <th>142</th>\n",
       "      <td>6.2667</td>\n",
       "      <td>56.2667</td>\n",
       "      <td>Tiburón jaquetón</td>\n",
       "      <td>2022-08-16</td>\n",
       "      <td>8:50</td>\n",
       "      <td>Cerco con jareta</td>\n",
       "      <td>51.5</td>\n",
       "      <td>PLAYA DE ARITZATXU</td>\n",
       "      <td>33.00</td>\n",
       "      <td>2</td>\n",
       "    </tr>\n",
       "    <tr>\n",
       "      <th>143</th>\n",
       "      <td>6.6500</td>\n",
       "      <td>56.0667</td>\n",
       "      <td>Tiburón jaquetón</td>\n",
       "      <td>2023-01-20</td>\n",
       "      <td>5:30</td>\n",
       "      <td>Cerco con jareta</td>\n",
       "      <td>51.5</td>\n",
       "      <td>PLAYA DE RIS</td>\n",
       "      <td>20.00</td>\n",
       "      <td>2</td>\n",
       "    </tr>\n",
       "    <tr>\n",
       "      <th>144</th>\n",
       "      <td>6.9833</td>\n",
       "      <td>61.3833</td>\n",
       "      <td>Tiburón jaquetón</td>\n",
       "      <td>2021-03-03</td>\n",
       "      <td>10:0</td>\n",
       "      <td>Cerco con jareta</td>\n",
       "      <td>51.5</td>\n",
       "      <td>ALBACORA CUATRO</td>\n",
       "      <td>81.00</td>\n",
       "      <td>2</td>\n",
       "    </tr>\n",
       "    <tr>\n",
       "      <th>145</th>\n",
       "      <td>8.3000</td>\n",
       "      <td>61.8167</td>\n",
       "      <td>Tiburón jaquetón</td>\n",
       "      <td>2022-01-23</td>\n",
       "      <td>6:15</td>\n",
       "      <td>Cerco con jareta</td>\n",
       "      <td>51.5</td>\n",
       "      <td>ALBACORA CUATRO</td>\n",
       "      <td>31.00</td>\n",
       "      <td>2</td>\n",
       "    </tr>\n",
       "  </tbody>\n",
       "</table>\n",
       "<p>146 rows × 10 columns</p>\n",
       "</div>"
      ],
      "text/plain": [
       "     Latitud  Longitud           Especie   FcCaptura HoraMinutos  \\\n",
       "0   -34.7833   32.1480  Tiburón jaquetón  2018-04-07       13:16   \n",
       "1   -34.5500   32.3000  Tiburón jaquetón  2018-04-04       12:32   \n",
       "2   -33.8333   33.6833  Tiburón jaquetón  2018-04-27       13:40   \n",
       "3   -33.0000   34.7500  Tiburón jaquetón  2018-05-24        15:0   \n",
       "4   -32.9667   35.3667  Tiburón jaquetón  2018-04-21       11:49   \n",
       "..       ...       ...               ...         ...         ...   \n",
       "141   5.8667   59.2167  Tiburón jaquetón  2023-01-20         2:0   \n",
       "142   6.2667   56.2667  Tiburón jaquetón  2022-08-16        8:50   \n",
       "143   6.6500   56.0667  Tiburón jaquetón  2023-01-20        5:30   \n",
       "144   6.9833   61.3833  Tiburón jaquetón  2021-03-03        10:0   \n",
       "145   8.3000   61.8167  Tiburón jaquetón  2022-01-23        6:15   \n",
       "\n",
       "                       Arte Division         NombreBuque  PesoConsumoTotal  \\\n",
       "0    Palangre de superficie     51.8             MARGUEL             96.04   \n",
       "1    Palangre de superficie     51.8             MARGUEL            211.05   \n",
       "2    Palangre de superficie     51.8             MARGUEL             96.04   \n",
       "3    Palangre de superficie     51.8             MARGUEL            109.04   \n",
       "4    Palangre de superficie     51.8             MARGUEL            109.04   \n",
       "..                      ...      ...                 ...               ...   \n",
       "141        Cerco con jareta     51.5     ALBACORA CUATRO             32.00   \n",
       "142        Cerco con jareta     51.5  PLAYA DE ARITZATXU             33.00   \n",
       "143        Cerco con jareta     51.5        PLAYA DE RIS             20.00   \n",
       "144        Cerco con jareta     51.5     ALBACORA CUATRO             81.00   \n",
       "145        Cerco con jareta     51.5     ALBACORA CUATRO             31.00   \n",
       "\n",
       "     Cluster  \n",
       "0          1  \n",
       "1          7  \n",
       "2          1  \n",
       "3          1  \n",
       "4          1  \n",
       "..       ...  \n",
       "141        2  \n",
       "142        2  \n",
       "143        2  \n",
       "144        2  \n",
       "145        2  \n",
       "\n",
       "[146 rows x 10 columns]"
      ]
     },
     "execution_count": 62,
     "metadata": {},
     "output_type": "execute_result"
    }
   ],
   "source": [
    "aggregated_fishdata"
   ]
  },
  {
   "cell_type": "markdown",
   "metadata": {},
   "source": [
    "### **5. Visualización de Resultados:**\n",
    "   Representa gráficamente los resultados del clustering para una comprensión más clara. Gráficos como gráficos de dispersión y dendrogramas pueden ayudar a visualizar las agrupaciones."
   ]
  },
  {
   "cell_type": "code",
   "execution_count": 63,
   "metadata": {},
   "outputs": [
    {
     "data": {
      "application/vnd.plotly.v1+json": {
       "config": {
        "plotlyServerURL": "https://plot.ly"
       },
       "data": [
        {
         "hovertemplate": "Longitud=%{x}<br>Latitud=%{y}<br>Cluster=%{marker.color}<extra></extra>",
         "legendgroup": "",
         "marker": {
          "color": [
           1,
           7,
           1,
           1,
           1,
           7,
           1,
           1,
           1,
           1,
           1,
           1,
           1,
           1,
           1,
           1,
           1,
           1,
           7,
           1,
           1,
           1,
           7,
           1,
           1,
           1,
           1,
           1,
           1,
           1,
           1,
           1,
           1,
           7,
           1,
           1,
           7,
           1,
           1,
           1,
           1,
           1,
           1,
           1,
           1,
           1,
           1,
           1,
           7,
           1,
           7,
           1,
           1,
           1,
           1,
           1,
           1,
           1,
           1,
           1,
           1,
           1,
           1,
           1,
           1,
           1,
           1,
           1,
           1,
           1,
           1,
           1,
           7,
           1,
           1,
           7,
           6,
           8,
           3,
           8,
           3,
           3,
           3,
           3,
           6,
           8,
           5,
           5,
           5,
           5,
           5,
           5,
           5,
           5,
           5,
           5,
           5,
           5,
           5,
           5,
           5,
           5,
           5,
           5,
           5,
           5,
           5,
           5,
           5,
           5,
           2,
           2,
           2,
           2,
           2,
           2,
           2,
           2,
           2,
           2,
           2,
           4,
           4,
           0,
           4,
           4,
           4,
           9,
           9,
           4,
           2,
           9,
           4,
           0,
           4,
           2,
           4,
           2,
           2,
           9,
           2,
           2,
           2,
           2,
           2,
           2
          ],
          "coloraxis": "coloraxis",
          "symbol": "circle"
         },
         "mode": "markers",
         "name": "",
         "orientation": "v",
         "showlegend": false,
         "type": "scatter",
         "x": [
          32.148,
          32.3,
          33.6833,
          34.75,
          35.3667,
          34.95,
          34.3167,
          34.4667,
          34.45,
          36.1167,
          34.7167,
          34.4167,
          37.0333,
          35.8,
          35.5667,
          34.4,
          35,
          44.7333,
          44.1,
          37.3333,
          42.65,
          41.8167,
          41.9,
          37.7333,
          38.05,
          36.2167,
          36.7333,
          37.5,
          36.9167,
          41.8667,
          44.1167,
          43.8,
          42.8667,
          44.4167,
          37.3667,
          36.7667,
          45.5833,
          44.4833,
          44.2667,
          38.8167,
          36.9,
          38.8667,
          43.5667,
          47.532,
          37.6333,
          36.3667,
          48.5948,
          36.7333,
          42.6833,
          47.4552,
          42.0167,
          43.5,
          38.55,
          42.3667,
          43.3833,
          43.9167,
          39.45,
          40.6,
          42,
          39.2667,
          37.3333,
          42.2,
          39.0403,
          39.0667,
          38.9692,
          38.9227,
          39.3667,
          38.1167,
          37.7333,
          36.6667,
          38.3,
          39.4167,
          37.45,
          39.1667,
          39.9833,
          40.2667,
          -109.7848,
          -108.9242,
          -110.031,
          -108.779,
          -108.7702,
          -109.9482,
          -94.1825,
          -93.162,
          -108.4573,
          -93.6535,
          63.7,
          41.8833,
          49.4667,
          51.1833,
          55.1167,
          50.3667,
          60.95,
          49.8167,
          61.6667,
          43.8333,
          61.8667,
          49.8333,
          59.85,
          49.0333,
          48.4667,
          46.8167,
          44.5333,
          60.9667,
          46.35,
          59.8333,
          51.5333,
          45.7167,
          48.4,
          61.8,
          48.68,
          50.8167,
          51.3,
          52.75,
          52.6833,
          58.8333,
          57.8333,
          58.5167,
          54.6667,
          63.5,
          64.4167,
          -102.6427,
          -102.6872,
          -103.0542,
          -102.8735,
          -101.8875,
          -104.8862,
          -101.2825,
          -101.142,
          -101.4575,
          61.1667,
          -101.3395,
          -101.1872,
          -101.209,
          -101.1492,
          57.75,
          -91.1707,
          53.7833,
          57.2333,
          -90.8797,
          58.7,
          59.2167,
          56.2667,
          56.0667,
          61.3833,
          61.8167
         ],
         "xaxis": "x",
         "y": [
          -34.7833,
          -34.55,
          -33.8333,
          -33,
          -32.9667,
          -32.9167,
          -32.8333,
          -32.8,
          -32.7333,
          -32.6833,
          -32.6667,
          -32.6167,
          -32.5667,
          -32.55,
          -31.9167,
          -31.8333,
          -31.8,
          -31.0333,
          -31.0167,
          -30.8833,
          -30.5833,
          -30.3833,
          -30.35,
          -30.2333,
          -30.2,
          -30.1667,
          -30.15,
          -30.15,
          -30.0333,
          -30.0167,
          -29.8,
          -29.6333,
          -29.6167,
          -29.55,
          -29.5167,
          -29.4833,
          -29.4833,
          -29.4333,
          -29.4,
          -29.3667,
          -29.25,
          -29.2,
          -29.1667,
          -29.1572,
          -29.15,
          -29.1,
          -29.0835,
          -29.05,
          -29.0333,
          -28.9812,
          -28.9667,
          -28.9333,
          -28.9167,
          -28.9,
          -28.9,
          -28.8833,
          -28.8333,
          -28.8333,
          -28.8333,
          -28.7667,
          -28.75,
          -28.7,
          -28.6283,
          -28.5833,
          -28.5602,
          -28.5407,
          -28.5333,
          -28.5,
          -28.3667,
          -28.2667,
          -27.8167,
          -27.7667,
          -27.45,
          -27.3,
          -27.2833,
          -27.2333,
          -18.8263,
          -18.791,
          -18.7375,
          -18.6973,
          -18.6883,
          -18.1873,
          -14.9983,
          -14.3505,
          -12.6763,
          -12.2203,
          -11.4167,
          -9.4,
          -7.5333,
          -7.1167,
          -6.75,
          -6.7333,
          -6.4333,
          -6.1167,
          -6.0667,
          -5.8833,
          -5.7833,
          -5.7667,
          -5.5833,
          -5.5167,
          -5.2833,
          -4.7167,
          -4.35,
          -3.95,
          -3.9167,
          -3.85,
          -2.9,
          -2.2333,
          -2.2,
          -1.1333,
          0.3372,
          0.3667,
          0.6,
          0.8333,
          1.85,
          2.1333,
          2.4,
          2.6,
          3.05,
          3.2167,
          3.5833,
          3.8687,
          3.9942,
          4.0853,
          4.202,
          4.2868,
          4.3542,
          4.4538,
          4.743,
          4.8853,
          4.9333,
          4.9667,
          4.9667,
          4.9685,
          4.9758,
          5.3,
          5.3355,
          5.6667,
          5.7833,
          5.8195,
          5.8667,
          5.8667,
          6.2667,
          6.65,
          6.9833,
          8.3
         ],
         "yaxis": "y"
        },
        {
         "alignmentgroup": "True",
         "hovertemplate": "Cluster=%{x}<br>PesoConsumoTotal=%{y}<extra></extra>",
         "legendgroup": "",
         "marker": {
          "color": "#636efa"
         },
         "name": "",
         "notched": false,
         "offsetgroup": "",
         "orientation": "v",
         "showlegend": false,
         "type": "box",
         "x": [
          1,
          7,
          1,
          1,
          1,
          7,
          1,
          1,
          1,
          1,
          1,
          1,
          1,
          1,
          1,
          1,
          1,
          1,
          7,
          1,
          1,
          1,
          7,
          1,
          1,
          1,
          1,
          1,
          1,
          1,
          1,
          1,
          1,
          7,
          1,
          1,
          7,
          1,
          1,
          1,
          1,
          1,
          1,
          1,
          1,
          1,
          1,
          1,
          7,
          1,
          7,
          1,
          1,
          1,
          1,
          1,
          1,
          1,
          1,
          1,
          1,
          1,
          1,
          1,
          1,
          1,
          1,
          1,
          1,
          1,
          1,
          1,
          7,
          1,
          1,
          7,
          6,
          8,
          3,
          8,
          3,
          3,
          3,
          3,
          6,
          8,
          5,
          5,
          5,
          5,
          5,
          5,
          5,
          5,
          5,
          5,
          5,
          5,
          5,
          5,
          5,
          5,
          5,
          5,
          5,
          5,
          5,
          5,
          5,
          5,
          2,
          2,
          2,
          2,
          2,
          2,
          2,
          2,
          2,
          2,
          2,
          4,
          4,
          0,
          4,
          4,
          4,
          9,
          9,
          4,
          2,
          9,
          4,
          0,
          4,
          2,
          4,
          2,
          2,
          9,
          2,
          2,
          2,
          2,
          2,
          2
         ],
         "x0": " ",
         "xaxis": "x2",
         "y": [
          96.04,
          211.05,
          96.04,
          109.04,
          109.04,
          189.07,
          31.02,
          131.04,
          119.04,
          164,
          25.01,
          45.02,
          41,
          103.03,
          25.01,
          99.98,
          129.99,
          102.79,
          194.59,
          79.97,
          112.77,
          102.79,
          204.54,
          81.75,
          95.71,
          81.94,
          50.96,
          95.71,
          95.73,
          112.77,
          79.99,
          112.91,
          118.92,
          208.86,
          19.99,
          40.98,
          293.03,
          145.32,
          102.93,
          32.9,
          83.95,
          59.98,
          118.92,
          85.14,
          122.92,
          36.9,
          21.79,
          29.97,
          299.98,
          38.62,
          319.98,
          95.94,
          64.98,
          90,
          102.93,
          95.94,
          119.99,
          120,
          105,
          104.98,
          60.97,
          90,
          41,
          94.98,
          41,
          61.5,
          19.99,
          50.96,
          142.88,
          90.02,
          31.98,
          50.98,
          499.93,
          50,
          40.98,
          340.65,
          1524.16,
          764.62,
          182.54,
          467.5,
          373.18,
          398.23,
          125.78,
          280.46,
          1444.97,
          542.36,
          20,
          15,
          10,
          33,
          10,
          15,
          15,
          51,
          15,
          15,
          47.5,
          10,
          47.5,
          42,
          20,
          15,
          124.3,
          20,
          20,
          20,
          13,
          66,
          15,
          15,
          20,
          10,
          27,
          10,
          10,
          20,
          12,
          10,
          25,
          46.8,
          93.6,
          253.4,
          226.42,
          938.45,
          260.15,
          100.21,
          91.53,
          664.81,
          428.76,
          110.81,
          15,
          651.33,
          113.69,
          1220.78,
          114.66,
          18,
          293.4,
          93.6,
          118,
          365.4,
          63,
          32,
          33,
          20,
          81,
          31
         ],
         "y0": " ",
         "yaxis": "y2"
        }
       ],
       "layout": {
        "annotations": [
         {
          "font": {
           "size": 16
          },
          "showarrow": false,
          "text": "Scatter Plot",
          "x": 0.315,
          "xanchor": "center",
          "xref": "paper",
          "y": 1,
          "yanchor": "bottom",
          "yref": "paper"
         },
         {
          "font": {
           "size": 16
          },
          "showarrow": false,
          "text": "Box Plots",
          "x": 0.865,
          "xanchor": "center",
          "xref": "paper",
          "y": 1,
          "yanchor": "bottom",
          "yref": "paper"
         }
        ],
        "showlegend": false,
        "template": {
         "data": {
          "bar": [
           {
            "error_x": {
             "color": "#2a3f5f"
            },
            "error_y": {
             "color": "#2a3f5f"
            },
            "marker": {
             "line": {
              "color": "#E5ECF6",
              "width": 0.5
             },
             "pattern": {
              "fillmode": "overlay",
              "size": 10,
              "solidity": 0.2
             }
            },
            "type": "bar"
           }
          ],
          "barpolar": [
           {
            "marker": {
             "line": {
              "color": "#E5ECF6",
              "width": 0.5
             },
             "pattern": {
              "fillmode": "overlay",
              "size": 10,
              "solidity": 0.2
             }
            },
            "type": "barpolar"
           }
          ],
          "carpet": [
           {
            "aaxis": {
             "endlinecolor": "#2a3f5f",
             "gridcolor": "white",
             "linecolor": "white",
             "minorgridcolor": "white",
             "startlinecolor": "#2a3f5f"
            },
            "baxis": {
             "endlinecolor": "#2a3f5f",
             "gridcolor": "white",
             "linecolor": "white",
             "minorgridcolor": "white",
             "startlinecolor": "#2a3f5f"
            },
            "type": "carpet"
           }
          ],
          "choropleth": [
           {
            "colorbar": {
             "outlinewidth": 0,
             "ticks": ""
            },
            "type": "choropleth"
           }
          ],
          "contour": [
           {
            "colorbar": {
             "outlinewidth": 0,
             "ticks": ""
            },
            "colorscale": [
             [
              0,
              "#0d0887"
             ],
             [
              0.1111111111111111,
              "#46039f"
             ],
             [
              0.2222222222222222,
              "#7201a8"
             ],
             [
              0.3333333333333333,
              "#9c179e"
             ],
             [
              0.4444444444444444,
              "#bd3786"
             ],
             [
              0.5555555555555556,
              "#d8576b"
             ],
             [
              0.6666666666666666,
              "#ed7953"
             ],
             [
              0.7777777777777778,
              "#fb9f3a"
             ],
             [
              0.8888888888888888,
              "#fdca26"
             ],
             [
              1,
              "#f0f921"
             ]
            ],
            "type": "contour"
           }
          ],
          "contourcarpet": [
           {
            "colorbar": {
             "outlinewidth": 0,
             "ticks": ""
            },
            "type": "contourcarpet"
           }
          ],
          "heatmap": [
           {
            "colorbar": {
             "outlinewidth": 0,
             "ticks": ""
            },
            "colorscale": [
             [
              0,
              "#0d0887"
             ],
             [
              0.1111111111111111,
              "#46039f"
             ],
             [
              0.2222222222222222,
              "#7201a8"
             ],
             [
              0.3333333333333333,
              "#9c179e"
             ],
             [
              0.4444444444444444,
              "#bd3786"
             ],
             [
              0.5555555555555556,
              "#d8576b"
             ],
             [
              0.6666666666666666,
              "#ed7953"
             ],
             [
              0.7777777777777778,
              "#fb9f3a"
             ],
             [
              0.8888888888888888,
              "#fdca26"
             ],
             [
              1,
              "#f0f921"
             ]
            ],
            "type": "heatmap"
           }
          ],
          "heatmapgl": [
           {
            "colorbar": {
             "outlinewidth": 0,
             "ticks": ""
            },
            "colorscale": [
             [
              0,
              "#0d0887"
             ],
             [
              0.1111111111111111,
              "#46039f"
             ],
             [
              0.2222222222222222,
              "#7201a8"
             ],
             [
              0.3333333333333333,
              "#9c179e"
             ],
             [
              0.4444444444444444,
              "#bd3786"
             ],
             [
              0.5555555555555556,
              "#d8576b"
             ],
             [
              0.6666666666666666,
              "#ed7953"
             ],
             [
              0.7777777777777778,
              "#fb9f3a"
             ],
             [
              0.8888888888888888,
              "#fdca26"
             ],
             [
              1,
              "#f0f921"
             ]
            ],
            "type": "heatmapgl"
           }
          ],
          "histogram": [
           {
            "marker": {
             "pattern": {
              "fillmode": "overlay",
              "size": 10,
              "solidity": 0.2
             }
            },
            "type": "histogram"
           }
          ],
          "histogram2d": [
           {
            "colorbar": {
             "outlinewidth": 0,
             "ticks": ""
            },
            "colorscale": [
             [
              0,
              "#0d0887"
             ],
             [
              0.1111111111111111,
              "#46039f"
             ],
             [
              0.2222222222222222,
              "#7201a8"
             ],
             [
              0.3333333333333333,
              "#9c179e"
             ],
             [
              0.4444444444444444,
              "#bd3786"
             ],
             [
              0.5555555555555556,
              "#d8576b"
             ],
             [
              0.6666666666666666,
              "#ed7953"
             ],
             [
              0.7777777777777778,
              "#fb9f3a"
             ],
             [
              0.8888888888888888,
              "#fdca26"
             ],
             [
              1,
              "#f0f921"
             ]
            ],
            "type": "histogram2d"
           }
          ],
          "histogram2dcontour": [
           {
            "colorbar": {
             "outlinewidth": 0,
             "ticks": ""
            },
            "colorscale": [
             [
              0,
              "#0d0887"
             ],
             [
              0.1111111111111111,
              "#46039f"
             ],
             [
              0.2222222222222222,
              "#7201a8"
             ],
             [
              0.3333333333333333,
              "#9c179e"
             ],
             [
              0.4444444444444444,
              "#bd3786"
             ],
             [
              0.5555555555555556,
              "#d8576b"
             ],
             [
              0.6666666666666666,
              "#ed7953"
             ],
             [
              0.7777777777777778,
              "#fb9f3a"
             ],
             [
              0.8888888888888888,
              "#fdca26"
             ],
             [
              1,
              "#f0f921"
             ]
            ],
            "type": "histogram2dcontour"
           }
          ],
          "mesh3d": [
           {
            "colorbar": {
             "outlinewidth": 0,
             "ticks": ""
            },
            "type": "mesh3d"
           }
          ],
          "parcoords": [
           {
            "line": {
             "colorbar": {
              "outlinewidth": 0,
              "ticks": ""
             }
            },
            "type": "parcoords"
           }
          ],
          "pie": [
           {
            "automargin": true,
            "type": "pie"
           }
          ],
          "scatter": [
           {
            "fillpattern": {
             "fillmode": "overlay",
             "size": 10,
             "solidity": 0.2
            },
            "type": "scatter"
           }
          ],
          "scatter3d": [
           {
            "line": {
             "colorbar": {
              "outlinewidth": 0,
              "ticks": ""
             }
            },
            "marker": {
             "colorbar": {
              "outlinewidth": 0,
              "ticks": ""
             }
            },
            "type": "scatter3d"
           }
          ],
          "scattercarpet": [
           {
            "marker": {
             "colorbar": {
              "outlinewidth": 0,
              "ticks": ""
             }
            },
            "type": "scattercarpet"
           }
          ],
          "scattergeo": [
           {
            "marker": {
             "colorbar": {
              "outlinewidth": 0,
              "ticks": ""
             }
            },
            "type": "scattergeo"
           }
          ],
          "scattergl": [
           {
            "marker": {
             "colorbar": {
              "outlinewidth": 0,
              "ticks": ""
             }
            },
            "type": "scattergl"
           }
          ],
          "scattermapbox": [
           {
            "marker": {
             "colorbar": {
              "outlinewidth": 0,
              "ticks": ""
             }
            },
            "type": "scattermapbox"
           }
          ],
          "scatterpolar": [
           {
            "marker": {
             "colorbar": {
              "outlinewidth": 0,
              "ticks": ""
             }
            },
            "type": "scatterpolar"
           }
          ],
          "scatterpolargl": [
           {
            "marker": {
             "colorbar": {
              "outlinewidth": 0,
              "ticks": ""
             }
            },
            "type": "scatterpolargl"
           }
          ],
          "scatterternary": [
           {
            "marker": {
             "colorbar": {
              "outlinewidth": 0,
              "ticks": ""
             }
            },
            "type": "scatterternary"
           }
          ],
          "surface": [
           {
            "colorbar": {
             "outlinewidth": 0,
             "ticks": ""
            },
            "colorscale": [
             [
              0,
              "#0d0887"
             ],
             [
              0.1111111111111111,
              "#46039f"
             ],
             [
              0.2222222222222222,
              "#7201a8"
             ],
             [
              0.3333333333333333,
              "#9c179e"
             ],
             [
              0.4444444444444444,
              "#bd3786"
             ],
             [
              0.5555555555555556,
              "#d8576b"
             ],
             [
              0.6666666666666666,
              "#ed7953"
             ],
             [
              0.7777777777777778,
              "#fb9f3a"
             ],
             [
              0.8888888888888888,
              "#fdca26"
             ],
             [
              1,
              "#f0f921"
             ]
            ],
            "type": "surface"
           }
          ],
          "table": [
           {
            "cells": {
             "fill": {
              "color": "#EBF0F8"
             },
             "line": {
              "color": "white"
             }
            },
            "header": {
             "fill": {
              "color": "#C8D4E3"
             },
             "line": {
              "color": "white"
             }
            },
            "type": "table"
           }
          ]
         },
         "layout": {
          "annotationdefaults": {
           "arrowcolor": "#2a3f5f",
           "arrowhead": 0,
           "arrowwidth": 1
          },
          "autotypenumbers": "strict",
          "coloraxis": {
           "colorbar": {
            "outlinewidth": 0,
            "ticks": ""
           }
          },
          "colorscale": {
           "diverging": [
            [
             0,
             "#8e0152"
            ],
            [
             0.1,
             "#c51b7d"
            ],
            [
             0.2,
             "#de77ae"
            ],
            [
             0.3,
             "#f1b6da"
            ],
            [
             0.4,
             "#fde0ef"
            ],
            [
             0.5,
             "#f7f7f7"
            ],
            [
             0.6,
             "#e6f5d0"
            ],
            [
             0.7,
             "#b8e186"
            ],
            [
             0.8,
             "#7fbc41"
            ],
            [
             0.9,
             "#4d9221"
            ],
            [
             1,
             "#276419"
            ]
           ],
           "sequential": [
            [
             0,
             "#0d0887"
            ],
            [
             0.1111111111111111,
             "#46039f"
            ],
            [
             0.2222222222222222,
             "#7201a8"
            ],
            [
             0.3333333333333333,
             "#9c179e"
            ],
            [
             0.4444444444444444,
             "#bd3786"
            ],
            [
             0.5555555555555556,
             "#d8576b"
            ],
            [
             0.6666666666666666,
             "#ed7953"
            ],
            [
             0.7777777777777778,
             "#fb9f3a"
            ],
            [
             0.8888888888888888,
             "#fdca26"
            ],
            [
             1,
             "#f0f921"
            ]
           ],
           "sequentialminus": [
            [
             0,
             "#0d0887"
            ],
            [
             0.1111111111111111,
             "#46039f"
            ],
            [
             0.2222222222222222,
             "#7201a8"
            ],
            [
             0.3333333333333333,
             "#9c179e"
            ],
            [
             0.4444444444444444,
             "#bd3786"
            ],
            [
             0.5555555555555556,
             "#d8576b"
            ],
            [
             0.6666666666666666,
             "#ed7953"
            ],
            [
             0.7777777777777778,
             "#fb9f3a"
            ],
            [
             0.8888888888888888,
             "#fdca26"
            ],
            [
             1,
             "#f0f921"
            ]
           ]
          },
          "colorway": [
           "#636efa",
           "#EF553B",
           "#00cc96",
           "#ab63fa",
           "#FFA15A",
           "#19d3f3",
           "#FF6692",
           "#B6E880",
           "#FF97FF",
           "#FECB52"
          ],
          "font": {
           "color": "#2a3f5f"
          },
          "geo": {
           "bgcolor": "white",
           "lakecolor": "white",
           "landcolor": "#E5ECF6",
           "showlakes": true,
           "showland": true,
           "subunitcolor": "white"
          },
          "hoverlabel": {
           "align": "left"
          },
          "hovermode": "closest",
          "mapbox": {
           "style": "light"
          },
          "paper_bgcolor": "white",
          "plot_bgcolor": "#E5ECF6",
          "polar": {
           "angularaxis": {
            "gridcolor": "white",
            "linecolor": "white",
            "ticks": ""
           },
           "bgcolor": "#E5ECF6",
           "radialaxis": {
            "gridcolor": "white",
            "linecolor": "white",
            "ticks": ""
           }
          },
          "scene": {
           "xaxis": {
            "backgroundcolor": "#E5ECF6",
            "gridcolor": "white",
            "gridwidth": 2,
            "linecolor": "white",
            "showbackground": true,
            "ticks": "",
            "zerolinecolor": "white"
           },
           "yaxis": {
            "backgroundcolor": "#E5ECF6",
            "gridcolor": "white",
            "gridwidth": 2,
            "linecolor": "white",
            "showbackground": true,
            "ticks": "",
            "zerolinecolor": "white"
           },
           "zaxis": {
            "backgroundcolor": "#E5ECF6",
            "gridcolor": "white",
            "gridwidth": 2,
            "linecolor": "white",
            "showbackground": true,
            "ticks": "",
            "zerolinecolor": "white"
           }
          },
          "shapedefaults": {
           "line": {
            "color": "#2a3f5f"
           }
          },
          "ternary": {
           "aaxis": {
            "gridcolor": "white",
            "linecolor": "white",
            "ticks": ""
           },
           "baxis": {
            "gridcolor": "white",
            "linecolor": "white",
            "ticks": ""
           },
           "bgcolor": "#E5ECF6",
           "caxis": {
            "gridcolor": "white",
            "linecolor": "white",
            "ticks": ""
           }
          },
          "title": {
           "x": 0.05
          },
          "xaxis": {
           "automargin": true,
           "gridcolor": "white",
           "linecolor": "white",
           "ticks": "",
           "title": {
            "standoff": 15
           },
           "zerolinecolor": "white",
           "zerolinewidth": 2
          },
          "yaxis": {
           "automargin": true,
           "gridcolor": "white",
           "linecolor": "white",
           "ticks": "",
           "title": {
            "standoff": 15
           },
           "zerolinecolor": "white",
           "zerolinewidth": 2
          }
         }
        },
        "title": {
         "text": "Cluster Analysis of Fishery Data with Latitud Distribution"
        },
        "xaxis": {
         "anchor": "y",
         "domain": [
          0,
          0.63
         ],
         "title": {
          "text": "Longitud"
         }
        },
        "xaxis2": {
         "anchor": "y2",
         "domain": [
          0.73,
          1
         ],
         "title": {
          "text": "Cluster"
         }
        },
        "yaxis": {
         "anchor": "x",
         "domain": [
          0,
          1
         ],
         "title": {
          "text": "Latitud"
         }
        },
        "yaxis2": {
         "anchor": "x2",
         "domain": [
          0,
          1
         ],
         "title": {
          "text": "PesoConsumoTotal"
         }
        }
       }
      }
     },
     "metadata": {},
     "output_type": "display_data"
    }
   ],
   "source": [
    "import plotly.express as px\n",
    "import plotly.graph_objects as go\n",
    "from plotly.subplots import make_subplots\n",
    "\n",
    "# Create the scatter plot\n",
    "scatter_fig = px.scatter(aggregated_fishdata, x='Longitud', y='Latitud', color='Cluster', title='Cluster Analysis of Fishery Data')\n",
    "\n",
    "# Create box plots for Latitud by Cluster\n",
    "box_fig = px.box(aggregated_fishdata, x='Cluster', y=\"PesoConsumoTotal\", title='Distribution of PesoConsumoTotal by Cluster')\n",
    "\n",
    "# Create a subplot with scatter plot and box plots\n",
    "fig = make_subplots(rows=1, cols=2, column_widths=[0.7, 0.3], subplot_titles=['Scatter Plot', 'Box Plots'])\n",
    "\n",
    "# Add the scatter plot to the subplot\n",
    "for trace in scatter_fig.data:\n",
    "    fig.add_trace(trace, row=1, col=1)\n",
    "\n",
    "# Add the box plots to the subplot\n",
    "for trace in box_fig.data:\n",
    "    fig.add_trace(trace, row=1, col=2)\n",
    "\n",
    "# Update subplot layout\n",
    "fig.update_layout(title='Cluster Analysis of Fishery Data with Latitud Distribution', showlegend=False)\n",
    "\n",
    "# Update axis titles for each subplot\n",
    "fig.update_xaxes(title_text='Longitud', row=1, col=1)\n",
    "fig.update_yaxes(title_text='Latitud', row=1, col=1)\n",
    "fig.update_xaxes(title_text='Cluster', row=1, col=2)\n",
    "fig.update_yaxes(title_text='PesoConsumoTotal', row=1, col=2)\n",
    "\n",
    "# Show the combined plot\n",
    "fig.show()"
   ]
  },
  {
   "cell_type": "markdown",
   "metadata": {},
   "source": [
    "### **6. Interpretación de Resultados:**\n",
    "    \n",
    "En los plots se pueden identificar cuatro clusters distintos que se distribuyen a ambos lados de la longitud 0 grados. En particular, en las longitudes positivas, los pesos de consumo son significativamente menores en comparación con las longitudes negativas. Destaca especialmente el cluster 2, que contiene los pesos de consumo más altos. Esta observación sugiere que existen patrones geográficos y de peso de consumo diferenciados entre los clusters.\n",
    "\n",
    "El scatter plot ha permitido visualizar cómo los datos se agrupan en función de la longitud y el peso de consumo. Los cuatro clusters podrían indicar diferentes hábitats o zonas de pesca. La diferencia en los pesos de consumo entre longitudes positivas y negativas podría ser el resultado de diferentes tamaños de peces que habitan en esas áreas o artes/censos utilizados para explotación. El hecho de que el cluster 2 tenga los pesos de consumo más altos en longitudes negativas sugiere la existencia de un área particularmente productiva para la captura de peces de mayor tamaño. Esta observación podría tener implicaciones importantes para la toma de decisiones en la gestión pesquera, al enfocar los esfuerzos en áreas más productivas."
   ]
  },
  {
   "cell_type": "markdown",
   "metadata": {},
   "source": []
  }
 ],
 "metadata": {
  "kernelspec": {
   "display_name": "Python 3",
   "language": "python",
   "name": "python3"
  },
  "language_info": {
   "codemirror_mode": {
    "name": "ipython",
    "version": 3
   },
   "file_extension": ".py",
   "mimetype": "text/x-python",
   "name": "python",
   "nbconvert_exporter": "python",
   "pygments_lexer": "ipython3",
   "version": "3.11.1"
  },
  "orig_nbformat": 4
 },
 "nbformat": 4,
 "nbformat_minor": 2
}
